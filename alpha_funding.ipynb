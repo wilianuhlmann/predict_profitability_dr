{
 "cells": [
  {
   "cell_type": "markdown",
   "id": "42d85f9b-5b40-4351-97a2-6a80d663284c",
   "metadata": {},
   "source": [
    "## **0.0. CASE - Modelo preditivo para rentabilidade ao longo de 6 meses**"
   ]
  },
  {
   "cell_type": "markdown",
   "id": "787d7717-6246-4443-a5e2-d097c1bb54b1",
   "metadata": {},
   "source": [
    "### 0.1. O problema de negocio"
   ]
  },
  {
   "cell_type": "markdown",
   "id": "584e7485-cc8a-47c5-9b87-70039a6b48c8",
   "metadata": {},
   "source": [
    "A empresa Alpha trabalha com gestão financeira de clientes pessoas fisicas e juridicas.\n",
    "\n",
    "Para isso, possui um quadro de 45 especialistas em investimentos em sua linha de frente.\n",
    "\n",
    "Nos ultimos anos, vemos no Brasil uma revolução financeira, onde as pessoas tem tido cada vez mais acesso a diversos tipos de investimentos para buscarem sua independencia financeira.\n",
    "\n",
    "Neste cenario, a Alpha Funding tem o desafdio de construir cenarios que melhorem a vida de seus clientes.\n",
    "\n",
    "A dr foi contratada para realizar uma analise exploratoria dos dados e propror oportunidades para que a Alpha Funding possa melhroar seu processo de oferta de investimentos aos clientes."
   ]
  },
  {
   "cell_type": "markdown",
   "id": "6f344177-d118-4e75-b688-1a123a0e6319",
   "metadata": {},
   "source": [
    "### 0.2. Taks"
   ]
  },
  {
   "cell_type": "markdown",
   "id": "f91ec14c-b746-475a-b5f8-3fef4f24b9ec",
   "metadata": {},
   "source": [
    "- Realizar uma EDA e elaborar hipoteses\n",
    "- Validar as hipoteses com base em modelos estatisticos\n",
    "- Propor algum algoritimo de ML capaz de PROJETAR RENTABILIDADE DOS INDICADORES ao longo do tempo\n",
    "- Propor um portifolio de investiomentos (mix de indicadores) ideal conforme  projeções do algoritimo de ML\n",
    "- Apresentar resultados aplicados do algoritimo desenvolvido e  criterios de avaliação para estabelecer se está pronto para uso ou se necessita aprimoramentos\n",
    "- Definir plano de ação para implantação do algoritimo pela ALpha Funding"
   ]
  },
  {
   "cell_type": "markdown",
   "id": "0a7f51a2-bc4b-49f8-a4de-87ae91ff168a",
   "metadata": {},
   "source": [
    "### 0.3. How to make?"
   ]
  },
  {
   "cell_type": "markdown",
   "id": "ba4fd83f-205b-418f-9051-c611aa8b6fed",
   "metadata": {},
   "source": [
    "1 - Separar as paginações do xlsx em novos datasets com nome intuitivos\n",
    "\n",
    "2 - Criar dicionario de dados para cada coluna de cada dataset criado.\n",
    "\n",
    "\n",
    "\n",
    "\n",
    "OBS: Dados de nossos clientes, quem são e como se comporta seria muito importante para um problema de negocio desse tipo."
   ]
  },
  {
   "cell_type": "markdown",
   "id": "ed751261-51b5-4051-8646-e478c12538e8",
   "metadata": {},
   "source": [
    "### 0.4. OBS:"
   ]
  },
  {
   "cell_type": "markdown",
   "id": "3379e4f4-f7d9-4e9c-9ee4-d1cd2c035967",
   "metadata": {},
   "source": [
    "Explicar o porque entendimento do problema de negocio é a parte de maior importancia dentro de um projeto de Ciencia de dados"
   ]
  },
  {
   "cell_type": "markdown",
   "id": "a69c0f2e-4cbd-4ab6-9bc7-7389b23b6c66",
   "metadata": {
    "jp-MarkdownHeadingCollapsed": true,
    "tags": []
   },
   "source": [
    "## **1.0. Imports**"
   ]
  },
  {
   "cell_type": "code",
   "execution_count": 76,
   "id": "ad9c135e-cbb6-4062-8445-cb3a47a1d994",
   "metadata": {},
   "outputs": [],
   "source": [
    "import pandas     as pd\n",
    "import numpy      as np\n",
    "import seaborn    as sns\n",
    "\n",
    "\n",
    "from IPython.display       import Image\n"
   ]
  },
  {
   "cell_type": "markdown",
   "id": "aa466890-a1e5-433b-8ad7-33a282d19de6",
   "metadata": {
    "jp-MarkdownHeadingCollapsed": true,
    "tags": []
   },
   "source": [
    "### 1.1. Load Datasets"
   ]
  },
  {
   "cell_type": "code",
   "execution_count": 2,
   "id": "7a6361f1-aecb-429a-b71a-359fc0f661a4",
   "metadata": {},
   "outputs": [],
   "source": [
    "df_raw_dolar = pd.read_excel(\"data/clean_data_indicadores_economicos.xlsx\", sheet_name=\"Dolar\")\n",
    "df_raw_bova11 = pd.read_excel(\"data/clean_data_indicadores_economicos.xlsx\", sheet_name=\"Bova11\")\n",
    "df_raw_smal11 = pd.read_excel(\"data/clean_data_indicadores_economicos.xlsx\", sheet_name=\"Smal11\")\n",
    "df_raw_bitcoin = pd.read_excel(\"data/clean_data_indicadores_economicos.xlsx\", sheet_name=\"Bitcoin\")\n",
    "df_raw_ethereum = pd.read_excel(\"data/clean_data_indicadores_economicos.xlsx\", sheet_name=\"Ethereum\")"
   ]
  },
  {
   "cell_type": "markdown",
   "id": "fb22b218-6e47-47f8-8aa2-bf0c4b99ae7e",
   "metadata": {},
   "source": [
    "### 1.2. Helper Functions"
   ]
  },
  {
   "cell_type": "code",
   "execution_count": 85,
   "id": "ce7d99c3-8359-4c04-ba41-ba9892e226e9",
   "metadata": {},
   "outputs": [],
   "source": [
    "def jupyter_settings():\n",
    "    %matplotlib inline\n",
    "    %pylab inline\n",
    "    \n",
    "    #plt.style.use( 'bmh' )\n",
    "    plt.rcParams['figure.figsize'] = [25, 12]\n",
    "    plt.rcParams['font.size'] = 24\n",
    "    \n",
    "    #display( HTML( '<style>.container { width:100% !important; }</style>') )\n",
    "    #pd.options.display.max_columns = None\n",
    "    #pd.options.display.max_rows = None\n",
    "    #pd.set_option( 'display.expand_frame_repr', False )\n",
    "    \n",
    "    sns.set()\n"
   ]
  },
  {
   "cell_type": "code",
   "execution_count": 86,
   "id": "cc796d2f-8df4-438c-a530-d8b1ed36edec",
   "metadata": {},
   "outputs": [
    {
     "name": "stdout",
     "output_type": "stream",
     "text": [
      "Populating the interactive namespace from numpy and matplotlib\n"
     ]
    }
   ],
   "source": [
    "jupyter_settings()"
   ]
  },
  {
   "cell_type": "markdown",
   "id": "24bce1f5-b60b-46d1-ab21-0569a46f8643",
   "metadata": {
    "jp-MarkdownHeadingCollapsed": true,
    "tags": []
   },
   "source": [
    "## **2.0. Data description**"
   ]
  },
  {
   "cell_type": "code",
   "execution_count": 3,
   "id": "3fda765a-484c-43b7-86e8-4645a9b76aa2",
   "metadata": {},
   "outputs": [],
   "source": [
    "df2_dolar     = df_raw_dolar.copy()\n",
    "df2_bova11    = df_raw_bova11.copy()\n",
    "df2_smal11    = df_raw_smal11.copy()\n",
    "df2_bitcoin   = df_raw_bitcoin.copy()\n",
    "df2_ethereum  = df_raw_ethereum.copy()"
   ]
  },
  {
   "cell_type": "markdown",
   "id": "fbd4ca13-5ab7-4b7f-94d1-b99e736a260a",
   "metadata": {},
   "source": [
    "### 2.1. Rename Columns"
   ]
  },
  {
   "cell_type": "code",
   "execution_count": 4,
   "id": "f90eca6b-e8c6-4b7a-ac86-4de5b9db2b07",
   "metadata": {},
   "outputs": [],
   "source": [
    "cols_news = ['data', 'fechamento', 'variacao', 'retorno_mensal_perc', 'abertura', 'maxima', 'minima', 'volume','fonte']\n",
    "df2_dolar.columns = cols_news\n",
    "df2_bova11.columns = cols_news\n",
    "df2_smal11.columns = cols_news\n",
    "df2_bitcoin.columns = cols_news\n",
    "df2_ethereum.columns = cols_news"
   ]
  },
  {
   "cell_type": "markdown",
   "id": "b4362723-389f-4f2c-871e-059d188e7f32",
   "metadata": {
    "tags": []
   },
   "source": [
    "### 2.2. Data dimension"
   ]
  },
  {
   "cell_type": "code",
   "execution_count": 5,
   "id": "53424933-14fe-4076-afe2-de48281fb645",
   "metadata": {},
   "outputs": [
    {
     "name": "stdout",
     "output_type": "stream",
     "text": [
      "Dolar Linhas:  4301\n",
      "Dolar Colunas: 9\n"
     ]
    }
   ],
   "source": [
    "print(\"Dolar Linhas:  {}\".format(df2_dolar.shape[0]))\n",
    "print(\"Dolar Colunas: {}\".format(df2_dolar.shape[1]))"
   ]
  },
  {
   "cell_type": "code",
   "execution_count": 6,
   "id": "27aa3d2e-9c92-448c-a495-423fa2fc0830",
   "metadata": {},
   "outputs": [
    {
     "data": {
      "text/html": [
       "<div>\n",
       "<style scoped>\n",
       "    .dataframe tbody tr th:only-of-type {\n",
       "        vertical-align: middle;\n",
       "    }\n",
       "\n",
       "    .dataframe tbody tr th {\n",
       "        vertical-align: top;\n",
       "    }\n",
       "\n",
       "    .dataframe thead th {\n",
       "        text-align: right;\n",
       "    }\n",
       "</style>\n",
       "<table border=\"1\" class=\"dataframe\">\n",
       "  <thead>\n",
       "    <tr style=\"text-align: right;\">\n",
       "      <th></th>\n",
       "      <th>data</th>\n",
       "      <th>fechamento</th>\n",
       "      <th>variacao</th>\n",
       "      <th>retorno_mensal_perc</th>\n",
       "      <th>abertura</th>\n",
       "      <th>maxima</th>\n",
       "      <th>minima</th>\n",
       "      <th>volume</th>\n",
       "      <th>fonte</th>\n",
       "    </tr>\n",
       "  </thead>\n",
       "  <tbody>\n",
       "    <tr>\n",
       "      <th>0</th>\n",
       "      <td>2021-07-19</td>\n",
       "      <td>5.25240</td>\n",
       "      <td>0.14</td>\n",
       "      <td>0.0268</td>\n",
       "      <td>5.11680</td>\n",
       "      <td>5.25820</td>\n",
       "      <td>5.11329</td>\n",
       "      <td>0.0</td>\n",
       "      <td>https://br.advfn.com/bolsa-de-valores/fx/USDBR...</td>\n",
       "    </tr>\n",
       "    <tr>\n",
       "      <th>1</th>\n",
       "      <td>2021-07-18</td>\n",
       "      <td>5.11550</td>\n",
       "      <td>0.00</td>\n",
       "      <td>0.0000</td>\n",
       "      <td>5.11571</td>\n",
       "      <td>5.11571</td>\n",
       "      <td>5.11550</td>\n",
       "      <td>0.0</td>\n",
       "      <td>NaN</td>\n",
       "    </tr>\n",
       "    <tr>\n",
       "      <th>2</th>\n",
       "      <td>2021-07-17</td>\n",
       "      <td>5.11550</td>\n",
       "      <td>0.00</td>\n",
       "      <td>0.0000</td>\n",
       "      <td>5.11037</td>\n",
       "      <td>5.11550</td>\n",
       "      <td>5.11037</td>\n",
       "      <td>0.0</td>\n",
       "      <td>NaN</td>\n",
       "    </tr>\n",
       "    <tr>\n",
       "      <th>3</th>\n",
       "      <td>2021-07-16</td>\n",
       "      <td>5.11545</td>\n",
       "      <td>0.00</td>\n",
       "      <td>0.0008</td>\n",
       "      <td>5.11180</td>\n",
       "      <td>5.12680</td>\n",
       "      <td>5.07570</td>\n",
       "      <td>0.0</td>\n",
       "      <td>NaN</td>\n",
       "    </tr>\n",
       "    <tr>\n",
       "      <th>4</th>\n",
       "      <td>2021-07-15</td>\n",
       "      <td>5.11150</td>\n",
       "      <td>0.04</td>\n",
       "      <td>0.0079</td>\n",
       "      <td>5.07180</td>\n",
       "      <td>5.13850</td>\n",
       "      <td>5.05626</td>\n",
       "      <td>0.0</td>\n",
       "      <td>NaN</td>\n",
       "    </tr>\n",
       "  </tbody>\n",
       "</table>\n",
       "</div>"
      ],
      "text/plain": [
       "        data  fechamento  variacao  retorno_mensal_perc  abertura   maxima  \\\n",
       "0 2021-07-19     5.25240      0.14               0.0268   5.11680  5.25820   \n",
       "1 2021-07-18     5.11550      0.00               0.0000   5.11571  5.11571   \n",
       "2 2021-07-17     5.11550      0.00               0.0000   5.11037  5.11550   \n",
       "3 2021-07-16     5.11545      0.00               0.0008   5.11180  5.12680   \n",
       "4 2021-07-15     5.11150      0.04               0.0079   5.07180  5.13850   \n",
       "\n",
       "    minima  volume                                              fonte  \n",
       "0  5.11329     0.0  https://br.advfn.com/bolsa-de-valores/fx/USDBR...  \n",
       "1  5.11550     0.0                                                NaN  \n",
       "2  5.11037     0.0                                                NaN  \n",
       "3  5.07570     0.0                                                NaN  \n",
       "4  5.05626     0.0                                                NaN  "
      ]
     },
     "execution_count": 6,
     "metadata": {},
     "output_type": "execute_result"
    }
   ],
   "source": [
    "df2_dolar.head()"
   ]
  },
  {
   "cell_type": "code",
   "execution_count": 7,
   "id": "a6eeaaee-73bd-4839-a657-5607f09caab9",
   "metadata": {},
   "outputs": [
    {
     "name": "stdout",
     "output_type": "stream",
     "text": [
      "Bova11 Linhas:  2846\n",
      "Bova11 Colunas: 9\n"
     ]
    }
   ],
   "source": [
    "print(\"Bova11 Linhas:  {}\".format(df2_bova11.shape[0]))\n",
    "print(\"Bova11 Colunas: {}\".format(df2_bova11.shape[1]))"
   ]
  },
  {
   "cell_type": "code",
   "execution_count": 8,
   "id": "141e4d8a-cc0c-45f9-917a-bdc6842c6e7a",
   "metadata": {},
   "outputs": [
    {
     "data": {
      "text/html": [
       "<div>\n",
       "<style scoped>\n",
       "    .dataframe tbody tr th:only-of-type {\n",
       "        vertical-align: middle;\n",
       "    }\n",
       "\n",
       "    .dataframe tbody tr th {\n",
       "        vertical-align: top;\n",
       "    }\n",
       "\n",
       "    .dataframe thead th {\n",
       "        text-align: right;\n",
       "    }\n",
       "</style>\n",
       "<table border=\"1\" class=\"dataframe\">\n",
       "  <thead>\n",
       "    <tr style=\"text-align: right;\">\n",
       "      <th></th>\n",
       "      <th>data</th>\n",
       "      <th>fechamento</th>\n",
       "      <th>variacao</th>\n",
       "      <th>retorno_mensal_perc</th>\n",
       "      <th>abertura</th>\n",
       "      <th>maxima</th>\n",
       "      <th>minima</th>\n",
       "      <th>volume</th>\n",
       "      <th>fonte</th>\n",
       "    </tr>\n",
       "  </thead>\n",
       "  <tbody>\n",
       "    <tr>\n",
       "      <th>0</th>\n",
       "      <td>2021-07-19</td>\n",
       "      <td>120.20</td>\n",
       "      <td>-0.95</td>\n",
       "      <td>-0.0078</td>\n",
       "      <td>119.50</td>\n",
       "      <td>120.20</td>\n",
       "      <td>118.64</td>\n",
       "      <td>6486683</td>\n",
       "      <td>https://br.advfn.com/bolsa-de-valores/bovespa/...</td>\n",
       "    </tr>\n",
       "    <tr>\n",
       "      <th>1</th>\n",
       "      <td>2021-07-16</td>\n",
       "      <td>121.15</td>\n",
       "      <td>0.00</td>\n",
       "      <td>0.0000</td>\n",
       "      <td>123.01</td>\n",
       "      <td>123.14</td>\n",
       "      <td>121.04</td>\n",
       "      <td>0</td>\n",
       "      <td>NaN</td>\n",
       "    </tr>\n",
       "    <tr>\n",
       "      <th>2</th>\n",
       "      <td>2021-07-16</td>\n",
       "      <td>121.15</td>\n",
       "      <td>-1.30</td>\n",
       "      <td>-0.0106</td>\n",
       "      <td>123.01</td>\n",
       "      <td>123.14</td>\n",
       "      <td>121.04</td>\n",
       "      <td>5638173</td>\n",
       "      <td>NaN</td>\n",
       "    </tr>\n",
       "    <tr>\n",
       "      <th>3</th>\n",
       "      <td>2021-07-15</td>\n",
       "      <td>122.45</td>\n",
       "      <td>-0.88</td>\n",
       "      <td>-0.0071</td>\n",
       "      <td>123.23</td>\n",
       "      <td>124.07</td>\n",
       "      <td>122.08</td>\n",
       "      <td>3957784</td>\n",
       "      <td>NaN</td>\n",
       "    </tr>\n",
       "    <tr>\n",
       "      <th>4</th>\n",
       "      <td>2021-07-14</td>\n",
       "      <td>123.33</td>\n",
       "      <td>0.13</td>\n",
       "      <td>0.0011</td>\n",
       "      <td>124.30</td>\n",
       "      <td>124.71</td>\n",
       "      <td>123.20</td>\n",
       "      <td>6404311</td>\n",
       "      <td>NaN</td>\n",
       "    </tr>\n",
       "  </tbody>\n",
       "</table>\n",
       "</div>"
      ],
      "text/plain": [
       "        data  fechamento  variacao  retorno_mensal_perc  abertura  maxima  \\\n",
       "0 2021-07-19      120.20     -0.95              -0.0078    119.50  120.20   \n",
       "1 2021-07-16      121.15      0.00               0.0000    123.01  123.14   \n",
       "2 2021-07-16      121.15     -1.30              -0.0106    123.01  123.14   \n",
       "3 2021-07-15      122.45     -0.88              -0.0071    123.23  124.07   \n",
       "4 2021-07-14      123.33      0.13               0.0011    124.30  124.71   \n",
       "\n",
       "   minima   volume                                              fonte  \n",
       "0  118.64  6486683  https://br.advfn.com/bolsa-de-valores/bovespa/...  \n",
       "1  121.04        0                                                NaN  \n",
       "2  121.04  5638173                                                NaN  \n",
       "3  122.08  3957784                                                NaN  \n",
       "4  123.20  6404311                                                NaN  "
      ]
     },
     "execution_count": 8,
     "metadata": {},
     "output_type": "execute_result"
    }
   ],
   "source": [
    "df2_bova11.head()"
   ]
  },
  {
   "cell_type": "code",
   "execution_count": 9,
   "id": "db20d6ed-3c23-4bf6-872e-58a75d44671d",
   "metadata": {},
   "outputs": [
    {
     "name": "stdout",
     "output_type": "stream",
     "text": [
      "Smal11 Linhas:  2844\n",
      "Smal11 Colunas: 9\n"
     ]
    }
   ],
   "source": [
    "print(\"Smal11 Linhas:  {}\".format(df2_smal11.shape[0]))\n",
    "print(\"Smal11 Colunas: {}\".format(df2_smal11.shape[1]))"
   ]
  },
  {
   "cell_type": "code",
   "execution_count": 10,
   "id": "36a89b18-be18-45cd-8616-4218b6f56f3f",
   "metadata": {},
   "outputs": [
    {
     "data": {
      "text/html": [
       "<div>\n",
       "<style scoped>\n",
       "    .dataframe tbody tr th:only-of-type {\n",
       "        vertical-align: middle;\n",
       "    }\n",
       "\n",
       "    .dataframe tbody tr th {\n",
       "        vertical-align: top;\n",
       "    }\n",
       "\n",
       "    .dataframe thead th {\n",
       "        text-align: right;\n",
       "    }\n",
       "</style>\n",
       "<table border=\"1\" class=\"dataframe\">\n",
       "  <thead>\n",
       "    <tr style=\"text-align: right;\">\n",
       "      <th></th>\n",
       "      <th>data</th>\n",
       "      <th>fechamento</th>\n",
       "      <th>variacao</th>\n",
       "      <th>retorno_mensal_perc</th>\n",
       "      <th>abertura</th>\n",
       "      <th>maxima</th>\n",
       "      <th>minima</th>\n",
       "      <th>volume</th>\n",
       "      <th>fonte</th>\n",
       "    </tr>\n",
       "  </thead>\n",
       "  <tbody>\n",
       "    <tr>\n",
       "      <th>0</th>\n",
       "      <td>2021-07-19</td>\n",
       "      <td>3064.09</td>\n",
       "      <td>-43.25</td>\n",
       "      <td>-0.0139</td>\n",
       "      <td>3106.81</td>\n",
       "      <td>3106.81</td>\n",
       "      <td>3036.43</td>\n",
       "      <td>0</td>\n",
       "      <td>https://br.advfn.com/bolsa-de-valores/bovespa/...</td>\n",
       "    </tr>\n",
       "    <tr>\n",
       "      <th>1</th>\n",
       "      <td>2021-07-16</td>\n",
       "      <td>3107.34</td>\n",
       "      <td>0.00</td>\n",
       "      <td>0.0000</td>\n",
       "      <td>3132.59</td>\n",
       "      <td>3147.94</td>\n",
       "      <td>3104.57</td>\n",
       "      <td>0</td>\n",
       "      <td>NaN</td>\n",
       "    </tr>\n",
       "    <tr>\n",
       "      <th>2</th>\n",
       "      <td>2021-07-16</td>\n",
       "      <td>3107.34</td>\n",
       "      <td>-25.18</td>\n",
       "      <td>-0.0080</td>\n",
       "      <td>3132.59</td>\n",
       "      <td>3147.94</td>\n",
       "      <td>3104.57</td>\n",
       "      <td>108981600</td>\n",
       "      <td>NaN</td>\n",
       "    </tr>\n",
       "    <tr>\n",
       "      <th>3</th>\n",
       "      <td>2021-07-15</td>\n",
       "      <td>3132.52</td>\n",
       "      <td>-22.95</td>\n",
       "      <td>-0.0073</td>\n",
       "      <td>3155.47</td>\n",
       "      <td>3163.66</td>\n",
       "      <td>3116.07</td>\n",
       "      <td>133373300</td>\n",
       "      <td>NaN</td>\n",
       "    </tr>\n",
       "    <tr>\n",
       "      <th>4</th>\n",
       "      <td>2021-07-14</td>\n",
       "      <td>3155.47</td>\n",
       "      <td>15.08</td>\n",
       "      <td>0.0048</td>\n",
       "      <td>3140.57</td>\n",
       "      <td>3174.22</td>\n",
       "      <td>3140.57</td>\n",
       "      <td>127793800</td>\n",
       "      <td>NaN</td>\n",
       "    </tr>\n",
       "  </tbody>\n",
       "</table>\n",
       "</div>"
      ],
      "text/plain": [
       "        data  fechamento  variacao  retorno_mensal_perc  abertura   maxima  \\\n",
       "0 2021-07-19     3064.09    -43.25              -0.0139   3106.81  3106.81   \n",
       "1 2021-07-16     3107.34      0.00               0.0000   3132.59  3147.94   \n",
       "2 2021-07-16     3107.34    -25.18              -0.0080   3132.59  3147.94   \n",
       "3 2021-07-15     3132.52    -22.95              -0.0073   3155.47  3163.66   \n",
       "4 2021-07-14     3155.47     15.08               0.0048   3140.57  3174.22   \n",
       "\n",
       "    minima     volume                                              fonte  \n",
       "0  3036.43          0  https://br.advfn.com/bolsa-de-valores/bovespa/...  \n",
       "1  3104.57          0                                                NaN  \n",
       "2  3104.57  108981600                                                NaN  \n",
       "3  3116.07  133373300                                                NaN  \n",
       "4  3140.57  127793800                                                NaN  "
      ]
     },
     "execution_count": 10,
     "metadata": {},
     "output_type": "execute_result"
    }
   ],
   "source": [
    "df2_smal11.head()"
   ]
  },
  {
   "cell_type": "code",
   "execution_count": 11,
   "id": "7882130b-467f-4550-91a8-bb31be7451ff",
   "metadata": {},
   "outputs": [
    {
     "name": "stdout",
     "output_type": "stream",
     "text": [
      "Bitcoin Linhas:  3922\n",
      "Bitcoin Colunas: 9\n"
     ]
    }
   ],
   "source": [
    "print(\"Bitcoin Linhas:  {}\".format(df2_bitcoin.shape[0]))\n",
    "print(\"Bitcoin Colunas: {}\".format(df2_bitcoin.shape[1]))"
   ]
  },
  {
   "cell_type": "code",
   "execution_count": 12,
   "id": "a7b0f12e-bcce-4c07-8695-a5c8d2bc5915",
   "metadata": {},
   "outputs": [
    {
     "data": {
      "text/html": [
       "<div>\n",
       "<style scoped>\n",
       "    .dataframe tbody tr th:only-of-type {\n",
       "        vertical-align: middle;\n",
       "    }\n",
       "\n",
       "    .dataframe tbody tr th {\n",
       "        vertical-align: top;\n",
       "    }\n",
       "\n",
       "    .dataframe thead th {\n",
       "        text-align: right;\n",
       "    }\n",
       "</style>\n",
       "<table border=\"1\" class=\"dataframe\">\n",
       "  <thead>\n",
       "    <tr style=\"text-align: right;\">\n",
       "      <th></th>\n",
       "      <th>data</th>\n",
       "      <th>fechamento</th>\n",
       "      <th>variacao</th>\n",
       "      <th>retorno_mensal_perc</th>\n",
       "      <th>abertura</th>\n",
       "      <th>maxima</th>\n",
       "      <th>minima</th>\n",
       "      <th>volume</th>\n",
       "      <th>fonte</th>\n",
       "    </tr>\n",
       "  </thead>\n",
       "  <tbody>\n",
       "    <tr>\n",
       "      <th>0</th>\n",
       "      <td>2021-07-19</td>\n",
       "      <td>30878.02</td>\n",
       "      <td>-989.05</td>\n",
       "      <td>-0.0310</td>\n",
       "      <td>31700.17</td>\n",
       "      <td>31887.82</td>\n",
       "      <td>30439.99</td>\n",
       "      <td>13590</td>\n",
       "      <td>https://br.advfn.com/bolsa-de-valores/coin/BTC...</td>\n",
       "    </tr>\n",
       "    <tr>\n",
       "      <th>1</th>\n",
       "      <td>2021-07-18</td>\n",
       "      <td>31867.07</td>\n",
       "      <td>327.06</td>\n",
       "      <td>0.0104</td>\n",
       "      <td>31598.60</td>\n",
       "      <td>32450.00</td>\n",
       "      <td>31200.00</td>\n",
       "      <td>7231</td>\n",
       "      <td>NaN</td>\n",
       "    </tr>\n",
       "    <tr>\n",
       "      <th>2</th>\n",
       "      <td>2021-07-17</td>\n",
       "      <td>31540.01</td>\n",
       "      <td>156.55</td>\n",
       "      <td>0.0050</td>\n",
       "      <td>31492.44</td>\n",
       "      <td>31949.99</td>\n",
       "      <td>31179.01</td>\n",
       "      <td>8385</td>\n",
       "      <td>NaN</td>\n",
       "    </tr>\n",
       "    <tr>\n",
       "      <th>3</th>\n",
       "      <td>2021-07-16</td>\n",
       "      <td>31383.46</td>\n",
       "      <td>-191.82</td>\n",
       "      <td>-0.0061</td>\n",
       "      <td>31676.67</td>\n",
       "      <td>32259.16</td>\n",
       "      <td>31025.42</td>\n",
       "      <td>14127</td>\n",
       "      <td>NaN</td>\n",
       "    </tr>\n",
       "    <tr>\n",
       "      <th>4</th>\n",
       "      <td>2021-07-15</td>\n",
       "      <td>31575.28</td>\n",
       "      <td>-1185.66</td>\n",
       "      <td>-0.0362</td>\n",
       "      <td>32803.98</td>\n",
       "      <td>33187.60</td>\n",
       "      <td>31064.77</td>\n",
       "      <td>14899</td>\n",
       "      <td>NaN</td>\n",
       "    </tr>\n",
       "  </tbody>\n",
       "</table>\n",
       "</div>"
      ],
      "text/plain": [
       "        data  fechamento  variacao  retorno_mensal_perc  abertura    maxima  \\\n",
       "0 2021-07-19    30878.02   -989.05              -0.0310  31700.17  31887.82   \n",
       "1 2021-07-18    31867.07    327.06               0.0104  31598.60  32450.00   \n",
       "2 2021-07-17    31540.01    156.55               0.0050  31492.44  31949.99   \n",
       "3 2021-07-16    31383.46   -191.82              -0.0061  31676.67  32259.16   \n",
       "4 2021-07-15    31575.28  -1185.66              -0.0362  32803.98  33187.60   \n",
       "\n",
       "     minima  volume                                              fonte  \n",
       "0  30439.99   13590  https://br.advfn.com/bolsa-de-valores/coin/BTC...  \n",
       "1  31200.00    7231                                                NaN  \n",
       "2  31179.01    8385                                                NaN  \n",
       "3  31025.42   14127                                                NaN  \n",
       "4  31064.77   14899                                                NaN  "
      ]
     },
     "execution_count": 12,
     "metadata": {},
     "output_type": "execute_result"
    }
   ],
   "source": [
    "df2_bitcoin.head()"
   ]
  },
  {
   "cell_type": "markdown",
   "id": "f1736c5e-9c20-4002-8e01-870a74b15179",
   "metadata": {
    "tags": []
   },
   "source": [
    "### 2.3. Data types"
   ]
  },
  {
   "cell_type": "code",
   "execution_count": 13,
   "id": "2757e279-bfcb-4664-bc6e-29765d39eb38",
   "metadata": {},
   "outputs": [
    {
     "data": {
      "text/plain": [
       "data                   datetime64[ns]\n",
       "fechamento                    float64\n",
       "variacao                      float64\n",
       "retorno_mensal_perc           float64\n",
       "abertura                      float64\n",
       "maxima                        float64\n",
       "minima                        float64\n",
       "volume                        float64\n",
       "fonte                          object\n",
       "dtype: object"
      ]
     },
     "execution_count": 13,
     "metadata": {},
     "output_type": "execute_result"
    }
   ],
   "source": [
    "df2_dolar.dtypes"
   ]
  },
  {
   "cell_type": "code",
   "execution_count": 14,
   "id": "058dd8ef-688e-4d69-ab78-83d1c94453e2",
   "metadata": {},
   "outputs": [
    {
     "data": {
      "text/plain": [
       "data                   datetime64[ns]\n",
       "fechamento                    float64\n",
       "variacao                      float64\n",
       "retorno_mensal_perc           float64\n",
       "abertura                      float64\n",
       "maxima                        float64\n",
       "minima                        float64\n",
       "volume                          int64\n",
       "fonte                          object\n",
       "dtype: object"
      ]
     },
     "execution_count": 14,
     "metadata": {},
     "output_type": "execute_result"
    }
   ],
   "source": [
    "df2_bova11.dtypes"
   ]
  },
  {
   "cell_type": "code",
   "execution_count": 15,
   "id": "72c816e5-e5b3-491e-920a-9d9cb687696e",
   "metadata": {},
   "outputs": [
    {
     "data": {
      "text/plain": [
       "data                   datetime64[ns]\n",
       "fechamento                    float64\n",
       "variacao                      float64\n",
       "retorno_mensal_perc           float64\n",
       "abertura                      float64\n",
       "maxima                        float64\n",
       "minima                        float64\n",
       "volume                          int64\n",
       "fonte                          object\n",
       "dtype: object"
      ]
     },
     "execution_count": 15,
     "metadata": {},
     "output_type": "execute_result"
    }
   ],
   "source": [
    "df2_smal11.dtypes"
   ]
  },
  {
   "cell_type": "code",
   "execution_count": 16,
   "id": "3fa0ae87-7f5e-4f83-858e-9e9af5167818",
   "metadata": {},
   "outputs": [
    {
     "data": {
      "text/plain": [
       "data                   datetime64[ns]\n",
       "fechamento                    float64\n",
       "variacao                      float64\n",
       "retorno_mensal_perc           float64\n",
       "abertura                      float64\n",
       "maxima                        float64\n",
       "minima                        float64\n",
       "volume                          int64\n",
       "fonte                          object\n",
       "dtype: object"
      ]
     },
     "execution_count": 16,
     "metadata": {},
     "output_type": "execute_result"
    }
   ],
   "source": [
    "df2_bitcoin.dtypes"
   ]
  },
  {
   "cell_type": "code",
   "execution_count": 17,
   "id": "df4c503d-c945-4611-af9f-d58e5705a717",
   "metadata": {},
   "outputs": [
    {
     "data": {
      "text/plain": [
       "data                   datetime64[ns]\n",
       "fechamento                    float64\n",
       "variacao                      float64\n",
       "retorno_mensal_perc           float64\n",
       "abertura                      float64\n",
       "maxima                        float64\n",
       "minima                        float64\n",
       "volume                          int64\n",
       "fonte                          object\n",
       "dtype: object"
      ]
     },
     "execution_count": 17,
     "metadata": {},
     "output_type": "execute_result"
    }
   ],
   "source": [
    "df2_ethereum.dtypes"
   ]
  },
  {
   "cell_type": "markdown",
   "id": "c8f8988c-3ff9-4fd7-923b-a8cfab5bd509",
   "metadata": {
    "tags": []
   },
   "source": [
    "### 2.4. Check NAs"
   ]
  },
  {
   "cell_type": "code",
   "execution_count": 18,
   "id": "dbafd7c6-7abb-4e68-b6b5-29b59d031556",
   "metadata": {},
   "outputs": [],
   "source": [
    "# para este primeiro cilco vou apenas remover os dados faltantes, no proximo ciclo verifico o que sçao esses dados e se é possivel restaurar."
   ]
  },
  {
   "cell_type": "code",
   "execution_count": 19,
   "id": "ceb431e8-7446-482f-84c5-9a555da87edd",
   "metadata": {},
   "outputs": [
    {
     "data": {
      "text/plain": [
       "data                      3\n",
       "fechamento                3\n",
       "variacao                  3\n",
       "retorno_mensal_perc       3\n",
       "abertura                  3\n",
       "maxima                    3\n",
       "minima                    3\n",
       "volume                   11\n",
       "fonte                  4300\n",
       "dtype: int64"
      ]
     },
     "execution_count": 19,
     "metadata": {},
     "output_type": "execute_result"
    }
   ],
   "source": [
    "df2_dolar.isna().sum()"
   ]
  },
  {
   "cell_type": "code",
   "execution_count": 20,
   "id": "b54bbda9-1d59-473b-8c82-7dd1839a2c80",
   "metadata": {},
   "outputs": [
    {
     "data": {
      "text/plain": [
       "data                      0\n",
       "fechamento                0\n",
       "variacao                  0\n",
       "retorno_mensal_perc       0\n",
       "abertura                  0\n",
       "maxima                    0\n",
       "minima                    0\n",
       "volume                    0\n",
       "fonte                  2845\n",
       "dtype: int64"
      ]
     },
     "execution_count": 20,
     "metadata": {},
     "output_type": "execute_result"
    }
   ],
   "source": [
    "df2_bova11.isna().sum()"
   ]
  },
  {
   "cell_type": "code",
   "execution_count": 21,
   "id": "2e08ecbf-7adb-464f-b9bc-25e447eea4df",
   "metadata": {},
   "outputs": [
    {
     "data": {
      "text/plain": [
       "data                      0\n",
       "fechamento                0\n",
       "variacao                  0\n",
       "retorno_mensal_perc       0\n",
       "abertura                  0\n",
       "maxima                    0\n",
       "minima                    0\n",
       "volume                    0\n",
       "fonte                  2843\n",
       "dtype: int64"
      ]
     },
     "execution_count": 21,
     "metadata": {},
     "output_type": "execute_result"
    }
   ],
   "source": [
    "df2_smal11.isna().sum()"
   ]
  },
  {
   "cell_type": "code",
   "execution_count": 22,
   "id": "195145e7-abc9-4e74-9b6e-e37b96c3e062",
   "metadata": {},
   "outputs": [
    {
     "data": {
      "text/plain": [
       "data                      0\n",
       "fechamento                0\n",
       "variacao                  0\n",
       "retorno_mensal_perc       0\n",
       "abertura                  0\n",
       "maxima                    0\n",
       "minima                    0\n",
       "volume                    0\n",
       "fonte                  3921\n",
       "dtype: int64"
      ]
     },
     "execution_count": 22,
     "metadata": {},
     "output_type": "execute_result"
    }
   ],
   "source": [
    "df2_bitcoin.isna().sum()"
   ]
  },
  {
   "cell_type": "code",
   "execution_count": 23,
   "id": "4710f241-0f87-40d9-83d9-22c9929e5dfb",
   "metadata": {},
   "outputs": [
    {
     "data": {
      "text/plain": [
       "data                      0\n",
       "fechamento                0\n",
       "variacao                  0\n",
       "retorno_mensal_perc       0\n",
       "abertura                  0\n",
       "maxima                    0\n",
       "minima                    0\n",
       "volume                    0\n",
       "fonte                  2210\n",
       "dtype: int64"
      ]
     },
     "execution_count": 23,
     "metadata": {},
     "output_type": "execute_result"
    }
   ],
   "source": [
    "df2_ethereum.isna().sum()"
   ]
  },
  {
   "cell_type": "markdown",
   "id": "54623017-926a-412e-9f52-4105e88f6f5c",
   "metadata": {},
   "source": [
    "### 2.5. Replace NAs"
   ]
  },
  {
   "cell_type": "code",
   "execution_count": 24,
   "id": "bc85a861-7dc1-43a8-b0e9-d60a33671b38",
   "metadata": {},
   "outputs": [],
   "source": [
    "df2_dolar = df2_dolar.dropna(subset=['volume']).drop(columns=['fonte'], axis=1)\n",
    "df2_bova11 = df2_bova11.drop(columns=['fonte'], axis=1)\n",
    "df2_smal11 = df2_smal11.drop(columns=['fonte'], axis=1)\n",
    "df2_bitcoin = df2_bitcoin.drop(columns=['fonte'], axis=1)\n",
    "df2_ethereum = df2_ethereum.drop(columns=['fonte'], axis=1)\n",
    "\n"
   ]
  },
  {
   "cell_type": "code",
   "execution_count": 25,
   "id": "6387cb2e-7a9f-4510-a7e6-0ea9eaae0e22",
   "metadata": {},
   "outputs": [
    {
     "data": {
      "text/html": [
       "<div>\n",
       "<style scoped>\n",
       "    .dataframe tbody tr th:only-of-type {\n",
       "        vertical-align: middle;\n",
       "    }\n",
       "\n",
       "    .dataframe tbody tr th {\n",
       "        vertical-align: top;\n",
       "    }\n",
       "\n",
       "    .dataframe thead th {\n",
       "        text-align: right;\n",
       "    }\n",
       "</style>\n",
       "<table border=\"1\" class=\"dataframe\">\n",
       "  <thead>\n",
       "    <tr style=\"text-align: right;\">\n",
       "      <th></th>\n",
       "      <th>data</th>\n",
       "      <th>fechamento</th>\n",
       "      <th>variacao</th>\n",
       "      <th>retorno_mensal_perc</th>\n",
       "      <th>abertura</th>\n",
       "      <th>maxima</th>\n",
       "      <th>minima</th>\n",
       "      <th>volume</th>\n",
       "    </tr>\n",
       "  </thead>\n",
       "  <tbody>\n",
       "    <tr>\n",
       "      <th>0</th>\n",
       "      <td>2021-07-19</td>\n",
       "      <td>5.25240</td>\n",
       "      <td>0.14</td>\n",
       "      <td>0.0268</td>\n",
       "      <td>5.11680</td>\n",
       "      <td>5.25820</td>\n",
       "      <td>5.11329</td>\n",
       "      <td>0.0</td>\n",
       "    </tr>\n",
       "    <tr>\n",
       "      <th>1</th>\n",
       "      <td>2021-07-18</td>\n",
       "      <td>5.11550</td>\n",
       "      <td>0.00</td>\n",
       "      <td>0.0000</td>\n",
       "      <td>5.11571</td>\n",
       "      <td>5.11571</td>\n",
       "      <td>5.11550</td>\n",
       "      <td>0.0</td>\n",
       "    </tr>\n",
       "    <tr>\n",
       "      <th>2</th>\n",
       "      <td>2021-07-17</td>\n",
       "      <td>5.11550</td>\n",
       "      <td>0.00</td>\n",
       "      <td>0.0000</td>\n",
       "      <td>5.11037</td>\n",
       "      <td>5.11550</td>\n",
       "      <td>5.11037</td>\n",
       "      <td>0.0</td>\n",
       "    </tr>\n",
       "    <tr>\n",
       "      <th>3</th>\n",
       "      <td>2021-07-16</td>\n",
       "      <td>5.11545</td>\n",
       "      <td>0.00</td>\n",
       "      <td>0.0008</td>\n",
       "      <td>5.11180</td>\n",
       "      <td>5.12680</td>\n",
       "      <td>5.07570</td>\n",
       "      <td>0.0</td>\n",
       "    </tr>\n",
       "    <tr>\n",
       "      <th>4</th>\n",
       "      <td>2021-07-15</td>\n",
       "      <td>5.11150</td>\n",
       "      <td>0.04</td>\n",
       "      <td>0.0079</td>\n",
       "      <td>5.07180</td>\n",
       "      <td>5.13850</td>\n",
       "      <td>5.05626</td>\n",
       "      <td>0.0</td>\n",
       "    </tr>\n",
       "  </tbody>\n",
       "</table>\n",
       "</div>"
      ],
      "text/plain": [
       "        data  fechamento  variacao  retorno_mensal_perc  abertura   maxima  \\\n",
       "0 2021-07-19     5.25240      0.14               0.0268   5.11680  5.25820   \n",
       "1 2021-07-18     5.11550      0.00               0.0000   5.11571  5.11571   \n",
       "2 2021-07-17     5.11550      0.00               0.0000   5.11037  5.11550   \n",
       "3 2021-07-16     5.11545      0.00               0.0008   5.11180  5.12680   \n",
       "4 2021-07-15     5.11150      0.04               0.0079   5.07180  5.13850   \n",
       "\n",
       "    minima  volume  \n",
       "0  5.11329     0.0  \n",
       "1  5.11550     0.0  \n",
       "2  5.11037     0.0  \n",
       "3  5.07570     0.0  \n",
       "4  5.05626     0.0  "
      ]
     },
     "execution_count": 25,
     "metadata": {},
     "output_type": "execute_result"
    }
   ],
   "source": [
    "df2_dolar.head()"
   ]
  },
  {
   "cell_type": "markdown",
   "id": "559cbf94-2344-45a2-a641-8a6efa0e0069",
   "metadata": {},
   "source": [
    "### 2.6. Change dtypes"
   ]
  },
  {
   "cell_type": "code",
   "execution_count": 26,
   "id": "5d2c0032-e8e0-424d-b619-f2e4b6e5c6e3",
   "metadata": {},
   "outputs": [],
   "source": [
    "df2_dolar['volume'] = df2_dolar['volume'].astype(int)\n",
    "\n",
    "\n",
    "\n",
    "\n",
    "df2_dolar['data'] = pd.to_datetime( df2_dolar['data'], format='%d-%b-%y' )\n"
   ]
  },
  {
   "cell_type": "markdown",
   "id": "683e852d-90f0-43a9-ba52-e75210a6726e",
   "metadata": {
    "tags": []
   },
   "source": [
    "### 2.7. Descriptive Statistics"
   ]
  },
  {
   "cell_type": "code",
   "execution_count": 27,
   "id": "a29f7eb4-96bd-4fe6-b0f2-1b3064484320",
   "metadata": {},
   "outputs": [],
   "source": [
    "num_attributes_dol = df2_dolar.select_dtypes( include=['int64', 'float64'] )\n",
    "num_attributes_bov = df2_bova11.select_dtypes( include=['int64', 'float64'] )\n",
    "num_attributes_sma = df2_smal11.select_dtypes( include=['int64', 'float64'] )\n",
    "num_attributes_bit = df2_bitcoin.select_dtypes( include=['int64', 'float64'] )\n",
    "num_attributes_eth = df2_ethereum.select_dtypes( include=['int64', 'float64'] )"
   ]
  },
  {
   "cell_type": "markdown",
   "id": "5bfe27f9-494e-4d4b-8231-716316f280aa",
   "metadata": {},
   "source": [
    "#### 2.7.1. Numerical Attributs"
   ]
  },
  {
   "cell_type": "code",
   "execution_count": 28,
   "id": "fa1722ab-c407-4ce9-870b-e5fa114e5574",
   "metadata": {},
   "outputs": [
    {
     "data": {
      "text/html": [
       "<div>\n",
       "<style scoped>\n",
       "    .dataframe tbody tr th:only-of-type {\n",
       "        vertical-align: middle;\n",
       "    }\n",
       "\n",
       "    .dataframe tbody tr th {\n",
       "        vertical-align: top;\n",
       "    }\n",
       "\n",
       "    .dataframe thead th {\n",
       "        text-align: right;\n",
       "    }\n",
       "</style>\n",
       "<table border=\"1\" class=\"dataframe\">\n",
       "  <thead>\n",
       "    <tr style=\"text-align: right;\">\n",
       "      <th></th>\n",
       "      <th>attributes</th>\n",
       "      <th>min</th>\n",
       "      <th>max</th>\n",
       "      <th>range</th>\n",
       "      <th>mean</th>\n",
       "      <th>mediana</th>\n",
       "      <th>std</th>\n",
       "      <th>skew</th>\n",
       "      <th>kurtosis</th>\n",
       "    </tr>\n",
       "  </thead>\n",
       "  <tbody>\n",
       "    <tr>\n",
       "      <th>0</th>\n",
       "      <td>fechamento</td>\n",
       "      <td>1.5385</td>\n",
       "      <td>5.88790</td>\n",
       "      <td>4.34940</td>\n",
       "      <td>3.086279</td>\n",
       "      <td>3.143650</td>\n",
       "      <td>1.160946</td>\n",
       "      <td>0.566453</td>\n",
       "      <td>-0.597617</td>\n",
       "    </tr>\n",
       "    <tr>\n",
       "      <th>1</th>\n",
       "      <td>variacao</td>\n",
       "      <td>-0.2500</td>\n",
       "      <td>0.34000</td>\n",
       "      <td>0.59000</td>\n",
       "      <td>0.000746</td>\n",
       "      <td>0.000000</td>\n",
       "      <td>0.030969</td>\n",
       "      <td>0.147794</td>\n",
       "      <td>11.897192</td>\n",
       "    </tr>\n",
       "    <tr>\n",
       "      <th>2</th>\n",
       "      <td>retorno_mensal_perc</td>\n",
       "      <td>-0.0574</td>\n",
       "      <td>0.07420</td>\n",
       "      <td>0.13160</td>\n",
       "      <td>0.000293</td>\n",
       "      <td>0.000000</td>\n",
       "      <td>0.008335</td>\n",
       "      <td>0.271933</td>\n",
       "      <td>6.025091</td>\n",
       "    </tr>\n",
       "    <tr>\n",
       "      <th>3</th>\n",
       "      <td>abertura</td>\n",
       "      <td>1.5385</td>\n",
       "      <td>5.88780</td>\n",
       "      <td>4.34930</td>\n",
       "      <td>3.085401</td>\n",
       "      <td>3.144050</td>\n",
       "      <td>1.160497</td>\n",
       "      <td>0.566562</td>\n",
       "      <td>-0.597337</td>\n",
       "    </tr>\n",
       "    <tr>\n",
       "      <th>4</th>\n",
       "      <td>maxima</td>\n",
       "      <td>1.5495</td>\n",
       "      <td>5.97237</td>\n",
       "      <td>4.42287</td>\n",
       "      <td>3.102835</td>\n",
       "      <td>3.155500</td>\n",
       "      <td>1.169121</td>\n",
       "      <td>0.568278</td>\n",
       "      <td>-0.594701</td>\n",
       "    </tr>\n",
       "    <tr>\n",
       "      <th>5</th>\n",
       "      <td>minima</td>\n",
       "      <td>1.5290</td>\n",
       "      <td>5.85667</td>\n",
       "      <td>4.32767</td>\n",
       "      <td>3.069272</td>\n",
       "      <td>3.132875</td>\n",
       "      <td>1.152562</td>\n",
       "      <td>0.562592</td>\n",
       "      <td>-0.604478</td>\n",
       "    </tr>\n",
       "    <tr>\n",
       "      <th>6</th>\n",
       "      <td>volume</td>\n",
       "      <td>0.0000</td>\n",
       "      <td>34144.00000</td>\n",
       "      <td>34144.00000</td>\n",
       "      <td>2968.216783</td>\n",
       "      <td>170.000000</td>\n",
       "      <td>6012.881741</td>\n",
       "      <td>2.289402</td>\n",
       "      <td>4.519794</td>\n",
       "    </tr>\n",
       "  </tbody>\n",
       "</table>\n",
       "</div>"
      ],
      "text/plain": [
       "            attributes     min          max        range         mean  \\\n",
       "0           fechamento  1.5385      5.88790      4.34940     3.086279   \n",
       "1             variacao -0.2500      0.34000      0.59000     0.000746   \n",
       "2  retorno_mensal_perc -0.0574      0.07420      0.13160     0.000293   \n",
       "3             abertura  1.5385      5.88780      4.34930     3.085401   \n",
       "4               maxima  1.5495      5.97237      4.42287     3.102835   \n",
       "5               minima  1.5290      5.85667      4.32767     3.069272   \n",
       "6               volume  0.0000  34144.00000  34144.00000  2968.216783   \n",
       "\n",
       "      mediana          std      skew   kurtosis  \n",
       "0    3.143650     1.160946  0.566453  -0.597617  \n",
       "1    0.000000     0.030969  0.147794  11.897192  \n",
       "2    0.000000     0.008335  0.271933   6.025091  \n",
       "3    3.144050     1.160497  0.566562  -0.597337  \n",
       "4    3.155500     1.169121  0.568278  -0.594701  \n",
       "5    3.132875     1.152562  0.562592  -0.604478  \n",
       "6  170.000000  6012.881741  2.289402   4.519794  "
      ]
     },
     "execution_count": 28,
     "metadata": {},
     "output_type": "execute_result"
    }
   ],
   "source": [
    "## DOLAR\n",
    "# central tendency - mean, median\n",
    "ct1 = pd.DataFrame( num_attributes_dol.apply( np.mean ) ).T\n",
    "ct2 = pd.DataFrame( num_attributes_dol.apply( np.median ) ).T\n",
    "             \n",
    "# dispersion - desvio padrão, minimo, maximo, range, skew, kurtosis\n",
    "d1 = pd.DataFrame( num_attributes_dol.apply( np.std ) ).T\n",
    "d2 = pd.DataFrame( num_attributes_dol.apply( np.min ) ).T\n",
    "d3 = pd.DataFrame( num_attributes_dol.apply( np.max ) ).T\n",
    "d4 = pd.DataFrame( num_attributes_dol.apply( lambda x: x.max() - x.min() ) ).T\n",
    "d5 = pd.DataFrame( num_attributes_dol.apply( lambda x: x.skew() ) ).T\n",
    "d6 = pd.DataFrame( num_attributes_dol.apply( lambda x: x.kurtosis() ) ).T\n",
    "\n",
    "# concatenate\n",
    "m = pd.concat( [d2, d3, d4, ct1, ct2, d1, d5, d6] ).T.reset_index()\n",
    "m.columns = ['attributes', 'min', 'max', 'range', 'mean', 'mediana', 'std', 'skew', 'kurtosis']\n",
    "m"
   ]
  },
  {
   "cell_type": "code",
   "execution_count": 29,
   "id": "49683883-a924-4e30-bd83-0f38bf4d7d81",
   "metadata": {},
   "outputs": [
    {
     "data": {
      "text/html": [
       "<div>\n",
       "<style scoped>\n",
       "    .dataframe tbody tr th:only-of-type {\n",
       "        vertical-align: middle;\n",
       "    }\n",
       "\n",
       "    .dataframe tbody tr th {\n",
       "        vertical-align: top;\n",
       "    }\n",
       "\n",
       "    .dataframe thead th {\n",
       "        text-align: right;\n",
       "    }\n",
       "</style>\n",
       "<table border=\"1\" class=\"dataframe\">\n",
       "  <thead>\n",
       "    <tr style=\"text-align: right;\">\n",
       "      <th></th>\n",
       "      <th>attributes</th>\n",
       "      <th>min</th>\n",
       "      <th>max</th>\n",
       "      <th>range</th>\n",
       "      <th>mean</th>\n",
       "      <th>mediana</th>\n",
       "      <th>std</th>\n",
       "      <th>skew</th>\n",
       "      <th>kurtosis</th>\n",
       "    </tr>\n",
       "  </thead>\n",
       "  <tbody>\n",
       "    <tr>\n",
       "      <th>0</th>\n",
       "      <td>fechamento</td>\n",
       "      <td>36.4500</td>\n",
       "      <td>1.256700e+02</td>\n",
       "      <td>8.922000e+01</td>\n",
       "      <td>6.848880e+01</td>\n",
       "      <td>60.750</td>\n",
       "      <td>2.110802e+01</td>\n",
       "      <td>0.904717</td>\n",
       "      <td>-0.277305</td>\n",
       "    </tr>\n",
       "    <tr>\n",
       "      <th>1</th>\n",
       "      <td>variacao</td>\n",
       "      <td>-11.9600</td>\n",
       "      <td>9.390000e+00</td>\n",
       "      <td>2.135000e+01</td>\n",
       "      <td>2.193956e-02</td>\n",
       "      <td>0.000</td>\n",
       "      <td>1.093672e+00</td>\n",
       "      <td>-1.357796</td>\n",
       "      <td>18.574658</td>\n",
       "    </tr>\n",
       "    <tr>\n",
       "      <th>2</th>\n",
       "      <td>retorno_mensal_perc</td>\n",
       "      <td>-0.1457</td>\n",
       "      <td>1.340000e-01</td>\n",
       "      <td>2.797000e-01</td>\n",
       "      <td>3.809909e-04</td>\n",
       "      <td>0.000</td>\n",
       "      <td>1.560215e-02</td>\n",
       "      <td>-0.496184</td>\n",
       "      <td>10.694951</td>\n",
       "    </tr>\n",
       "    <tr>\n",
       "      <th>3</th>\n",
       "      <td>abertura</td>\n",
       "      <td>36.3200</td>\n",
       "      <td>1.255700e+02</td>\n",
       "      <td>8.925000e+01</td>\n",
       "      <td>6.852664e+01</td>\n",
       "      <td>60.800</td>\n",
       "      <td>2.110554e+01</td>\n",
       "      <td>0.902193</td>\n",
       "      <td>-0.283919</td>\n",
       "    </tr>\n",
       "    <tr>\n",
       "      <th>4</th>\n",
       "      <td>maxima</td>\n",
       "      <td>36.6100</td>\n",
       "      <td>1.262200e+02</td>\n",
       "      <td>8.961000e+01</td>\n",
       "      <td>6.911680e+01</td>\n",
       "      <td>61.170</td>\n",
       "      <td>2.122290e+01</td>\n",
       "      <td>0.901244</td>\n",
       "      <td>-0.292480</td>\n",
       "    </tr>\n",
       "    <tr>\n",
       "      <th>5</th>\n",
       "      <td>minima</td>\n",
       "      <td>36.0100</td>\n",
       "      <td>1.247100e+02</td>\n",
       "      <td>8.870000e+01</td>\n",
       "      <td>6.786566e+01</td>\n",
       "      <td>60.315</td>\n",
       "      <td>2.096117e+01</td>\n",
       "      <td>0.907849</td>\n",
       "      <td>-0.265707</td>\n",
       "    </tr>\n",
       "    <tr>\n",
       "      <th>6</th>\n",
       "      <td>volume</td>\n",
       "      <td>0.0000</td>\n",
       "      <td>4.589951e+07</td>\n",
       "      <td>4.589951e+07</td>\n",
       "      <td>3.310217e+06</td>\n",
       "      <td>2274495.000</td>\n",
       "      <td>3.628650e+06</td>\n",
       "      <td>3.460335</td>\n",
       "      <td>20.616308</td>\n",
       "    </tr>\n",
       "  </tbody>\n",
       "</table>\n",
       "</div>"
      ],
      "text/plain": [
       "            attributes      min           max         range          mean  \\\n",
       "0           fechamento  36.4500  1.256700e+02  8.922000e+01  6.848880e+01   \n",
       "1             variacao -11.9600  9.390000e+00  2.135000e+01  2.193956e-02   \n",
       "2  retorno_mensal_perc  -0.1457  1.340000e-01  2.797000e-01  3.809909e-04   \n",
       "3             abertura  36.3200  1.255700e+02  8.925000e+01  6.852664e+01   \n",
       "4               maxima  36.6100  1.262200e+02  8.961000e+01  6.911680e+01   \n",
       "5               minima  36.0100  1.247100e+02  8.870000e+01  6.786566e+01   \n",
       "6               volume   0.0000  4.589951e+07  4.589951e+07  3.310217e+06   \n",
       "\n",
       "       mediana           std      skew   kurtosis  \n",
       "0       60.750  2.110802e+01  0.904717  -0.277305  \n",
       "1        0.000  1.093672e+00 -1.357796  18.574658  \n",
       "2        0.000  1.560215e-02 -0.496184  10.694951  \n",
       "3       60.800  2.110554e+01  0.902193  -0.283919  \n",
       "4       61.170  2.122290e+01  0.901244  -0.292480  \n",
       "5       60.315  2.096117e+01  0.907849  -0.265707  \n",
       "6  2274495.000  3.628650e+06  3.460335  20.616308  "
      ]
     },
     "execution_count": 29,
     "metadata": {},
     "output_type": "execute_result"
    }
   ],
   "source": [
    "## BOVA11\n",
    "# central tendency - mean, median\n",
    "ct1 = pd.DataFrame( num_attributes_bov.apply( np.mean ) ).T\n",
    "ct2 = pd.DataFrame( num_attributes_bov.apply( np.median ) ).T\n",
    "             \n",
    "# dispersion - desvio padrão, minimo, maximo, range, skew, kurtosis\n",
    "d1 = pd.DataFrame( num_attributes_bov.apply( np.std ) ).T\n",
    "d2 = pd.DataFrame( num_attributes_bov.apply( np.min ) ).T\n",
    "d3 = pd.DataFrame( num_attributes_bov.apply( np.max ) ).T\n",
    "d4 = pd.DataFrame( num_attributes_bov.apply( lambda x: x.max() - x.min() ) ).T\n",
    "d5 = pd.DataFrame( num_attributes_bov.apply( lambda x: x.skew() ) ).T\n",
    "d6 = pd.DataFrame( num_attributes_bov.apply( lambda x: x.kurtosis() ) ).T\n",
    "\n",
    "# concatenate\n",
    "m = pd.concat( [d2, d3, d4, ct1, ct2, d1, d5, d6] ).T.reset_index()\n",
    "m.columns = ['attributes', 'min', 'max', 'range', 'mean', 'mediana', 'std', 'skew', 'kurtosis']\n",
    "m"
   ]
  },
  {
   "cell_type": "code",
   "execution_count": 30,
   "id": "0180cc2a-3b1f-4a00-b69a-e529d861f367",
   "metadata": {},
   "outputs": [
    {
     "data": {
      "text/html": [
       "<div>\n",
       "<style scoped>\n",
       "    .dataframe tbody tr th:only-of-type {\n",
       "        vertical-align: middle;\n",
       "    }\n",
       "\n",
       "    .dataframe tbody tr th {\n",
       "        vertical-align: top;\n",
       "    }\n",
       "\n",
       "    .dataframe thead th {\n",
       "        text-align: right;\n",
       "    }\n",
       "</style>\n",
       "<table border=\"1\" class=\"dataframe\">\n",
       "  <thead>\n",
       "    <tr style=\"text-align: right;\">\n",
       "      <th></th>\n",
       "      <th>attributes</th>\n",
       "      <th>min</th>\n",
       "      <th>max</th>\n",
       "      <th>range</th>\n",
       "      <th>mean</th>\n",
       "      <th>mediana</th>\n",
       "      <th>std</th>\n",
       "      <th>skew</th>\n",
       "      <th>kurtosis</th>\n",
       "    </tr>\n",
       "  </thead>\n",
       "  <tbody>\n",
       "    <tr>\n",
       "      <th>0</th>\n",
       "      <td>fechamento</td>\n",
       "      <td>722.9300</td>\n",
       "      <td>3.224790e+03</td>\n",
       "      <td>2.501860e+03</td>\n",
       "      <td>1.560098e+03</td>\n",
       "      <td>1.394015e+03</td>\n",
       "      <td>5.579223e+02</td>\n",
       "      <td>1.161629</td>\n",
       "      <td>0.573805</td>\n",
       "    </tr>\n",
       "    <tr>\n",
       "      <th>1</th>\n",
       "      <td>variacao</td>\n",
       "      <td>-363.5100</td>\n",
       "      <td>1.987300e+02</td>\n",
       "      <td>5.622400e+02</td>\n",
       "      <td>5.136955e-01</td>\n",
       "      <td>0.000000e+00</td>\n",
       "      <td>2.505839e+01</td>\n",
       "      <td>-2.834098</td>\n",
       "      <td>40.359341</td>\n",
       "    </tr>\n",
       "    <tr>\n",
       "      <th>2</th>\n",
       "      <td>retorno_mensal_perc</td>\n",
       "      <td>-0.1666</td>\n",
       "      <td>1.093000e-01</td>\n",
       "      <td>2.759000e-01</td>\n",
       "      <td>3.296765e-04</td>\n",
       "      <td>0.000000e+00</td>\n",
       "      <td>1.404682e-02</td>\n",
       "      <td>-1.641778</td>\n",
       "      <td>21.440468</td>\n",
       "    </tr>\n",
       "    <tr>\n",
       "      <th>3</th>\n",
       "      <td>abertura</td>\n",
       "      <td>722.9300</td>\n",
       "      <td>3.224700e+03</td>\n",
       "      <td>2.501770e+03</td>\n",
       "      <td>1.559442e+03</td>\n",
       "      <td>1.394080e+03</td>\n",
       "      <td>5.572498e+02</td>\n",
       "      <td>1.162631</td>\n",
       "      <td>0.579442</td>\n",
       "    </tr>\n",
       "    <tr>\n",
       "      <th>4</th>\n",
       "      <td>maxima</td>\n",
       "      <td>729.2000</td>\n",
       "      <td>3.232890e+03</td>\n",
       "      <td>2.503690e+03</td>\n",
       "      <td>1.572418e+03</td>\n",
       "      <td>1.401530e+03</td>\n",
       "      <td>5.628150e+02</td>\n",
       "      <td>1.160705</td>\n",
       "      <td>0.555553</td>\n",
       "    </tr>\n",
       "    <tr>\n",
       "      <th>5</th>\n",
       "      <td>minima</td>\n",
       "      <td>716.7000</td>\n",
       "      <td>3.202590e+03</td>\n",
       "      <td>2.485890e+03</td>\n",
       "      <td>1.546390e+03</td>\n",
       "      <td>1.385535e+03</td>\n",
       "      <td>5.512635e+02</td>\n",
       "      <td>1.162416</td>\n",
       "      <td>0.594283</td>\n",
       "    </tr>\n",
       "    <tr>\n",
       "      <th>6</th>\n",
       "      <td>volume</td>\n",
       "      <td>0.0000</td>\n",
       "      <td>1.184852e+09</td>\n",
       "      <td>1.184852e+09</td>\n",
       "      <td>1.113155e+08</td>\n",
       "      <td>1.029930e+08</td>\n",
       "      <td>8.847941e+07</td>\n",
       "      <td>3.334730</td>\n",
       "      <td>25.745539</td>\n",
       "    </tr>\n",
       "  </tbody>\n",
       "</table>\n",
       "</div>"
      ],
      "text/plain": [
       "            attributes       min           max         range          mean  \\\n",
       "0           fechamento  722.9300  3.224790e+03  2.501860e+03  1.560098e+03   \n",
       "1             variacao -363.5100  1.987300e+02  5.622400e+02  5.136955e-01   \n",
       "2  retorno_mensal_perc   -0.1666  1.093000e-01  2.759000e-01  3.296765e-04   \n",
       "3             abertura  722.9300  3.224700e+03  2.501770e+03  1.559442e+03   \n",
       "4               maxima  729.2000  3.232890e+03  2.503690e+03  1.572418e+03   \n",
       "5               minima  716.7000  3.202590e+03  2.485890e+03  1.546390e+03   \n",
       "6               volume    0.0000  1.184852e+09  1.184852e+09  1.113155e+08   \n",
       "\n",
       "        mediana           std      skew   kurtosis  \n",
       "0  1.394015e+03  5.579223e+02  1.161629   0.573805  \n",
       "1  0.000000e+00  2.505839e+01 -2.834098  40.359341  \n",
       "2  0.000000e+00  1.404682e-02 -1.641778  21.440468  \n",
       "3  1.394080e+03  5.572498e+02  1.162631   0.579442  \n",
       "4  1.401530e+03  5.628150e+02  1.160705   0.555553  \n",
       "5  1.385535e+03  5.512635e+02  1.162416   0.594283  \n",
       "6  1.029930e+08  8.847941e+07  3.334730  25.745539  "
      ]
     },
     "execution_count": 30,
     "metadata": {},
     "output_type": "execute_result"
    }
   ],
   "source": [
    "## SMAL11\n",
    "# central tendency - mean, median\n",
    "ct1 = pd.DataFrame( num_attributes_sma.apply( np.mean ) ).T\n",
    "ct2 = pd.DataFrame( num_attributes_sma.apply( np.median ) ).T\n",
    "             \n",
    "# dispersion - desvio padrão, minimo, maximo, range, skew, kurtosis\n",
    "d1 = pd.DataFrame( num_attributes_sma.apply( np.std ) ).T\n",
    "d2 = pd.DataFrame( num_attributes_sma.apply( np.min ) ).T\n",
    "d3 = pd.DataFrame( num_attributes_sma.apply( np.max ) ).T\n",
    "d4 = pd.DataFrame( num_attributes_sma.apply( lambda x: x.max() - x.min() ) ).T\n",
    "d5 = pd.DataFrame( num_attributes_sma.apply( lambda x: x.skew() ) ).T\n",
    "d6 = pd.DataFrame( num_attributes_sma.apply( lambda x: x.kurtosis() ) ).T\n",
    "\n",
    "# concatenate\n",
    "m = pd.concat( [d2, d3, d4, ct1, ct2, d1, d5, d6] ).T.reset_index()\n",
    "m.columns = ['attributes', 'min', 'max', 'range', 'mean', 'mediana', 'std', 'skew', 'kurtosis']\n",
    "m"
   ]
  },
  {
   "cell_type": "code",
   "execution_count": 31,
   "id": "df136a1c-4ea1-483e-b339-c4fd87df17e4",
   "metadata": {},
   "outputs": [
    {
     "data": {
      "text/html": [
       "<div>\n",
       "<style scoped>\n",
       "    .dataframe tbody tr th:only-of-type {\n",
       "        vertical-align: middle;\n",
       "    }\n",
       "\n",
       "    .dataframe tbody tr th {\n",
       "        vertical-align: top;\n",
       "    }\n",
       "\n",
       "    .dataframe thead th {\n",
       "        text-align: right;\n",
       "    }\n",
       "</style>\n",
       "<table border=\"1\" class=\"dataframe\">\n",
       "  <thead>\n",
       "    <tr style=\"text-align: right;\">\n",
       "      <th></th>\n",
       "      <th>attributes</th>\n",
       "      <th>min</th>\n",
       "      <th>max</th>\n",
       "      <th>range</th>\n",
       "      <th>mean</th>\n",
       "      <th>mediana</th>\n",
       "      <th>std</th>\n",
       "      <th>skew</th>\n",
       "      <th>kurtosis</th>\n",
       "    </tr>\n",
       "  </thead>\n",
       "  <tbody>\n",
       "    <tr>\n",
       "      <th>0</th>\n",
       "      <td>fechamento</td>\n",
       "      <td>0.2950</td>\n",
       "      <td>6.343138e+04</td>\n",
       "      <td>6.343108e+04</td>\n",
       "      <td>5.301690e+03</td>\n",
       "      <td>623.0600</td>\n",
       "      <td>1.042060e+04</td>\n",
       "      <td>3.362294</td>\n",
       "      <td>12.129609</td>\n",
       "    </tr>\n",
       "    <tr>\n",
       "      <th>1</th>\n",
       "      <td>variacao</td>\n",
       "      <td>-5616.6100</td>\n",
       "      <td>7.082840e+03</td>\n",
       "      <td>1.269945e+04</td>\n",
       "      <td>8.066490e+00</td>\n",
       "      <td>0.0600</td>\n",
       "      <td>5.102832e+02</td>\n",
       "      <td>0.360288</td>\n",
       "      <td>44.414746</td>\n",
       "    </tr>\n",
       "    <tr>\n",
       "      <th>2</th>\n",
       "      <td>retorno_mensal_perc</td>\n",
       "      <td>-0.3897</td>\n",
       "      <td>5.289000e-01</td>\n",
       "      <td>9.186000e-01</td>\n",
       "      <td>4.356808e-03</td>\n",
       "      <td>0.0019</td>\n",
       "      <td>5.165994e-02</td>\n",
       "      <td>0.749897</td>\n",
       "      <td>13.685814</td>\n",
       "    </tr>\n",
       "    <tr>\n",
       "      <th>3</th>\n",
       "      <td>abertura</td>\n",
       "      <td>0.2950</td>\n",
       "      <td>6.348571e+04</td>\n",
       "      <td>6.348542e+04</td>\n",
       "      <td>5.293858e+03</td>\n",
       "      <td>622.4700</td>\n",
       "      <td>1.041342e+04</td>\n",
       "      <td>3.369388</td>\n",
       "      <td>12.187477</td>\n",
       "    </tr>\n",
       "    <tr>\n",
       "      <th>4</th>\n",
       "      <td>maxima</td>\n",
       "      <td>0.2990</td>\n",
       "      <td>6.490000e+04</td>\n",
       "      <td>6.489970e+04</td>\n",
       "      <td>5.474775e+03</td>\n",
       "      <td>629.2700</td>\n",
       "      <td>1.077328e+04</td>\n",
       "      <td>3.350119</td>\n",
       "      <td>11.973559</td>\n",
       "    </tr>\n",
       "    <tr>\n",
       "      <th>5</th>\n",
       "      <td>minima</td>\n",
       "      <td>0.2890</td>\n",
       "      <td>6.203673e+04</td>\n",
       "      <td>6.203644e+04</td>\n",
       "      <td>5.090329e+03</td>\n",
       "      <td>610.2300</td>\n",
       "      <td>9.984463e+03</td>\n",
       "      <td>3.384465</td>\n",
       "      <td>12.395796</td>\n",
       "    </tr>\n",
       "    <tr>\n",
       "      <th>6</th>\n",
       "      <td>volume</td>\n",
       "      <td>0.0000</td>\n",
       "      <td>4.057878e+09</td>\n",
       "      <td>4.057878e+09</td>\n",
       "      <td>3.948122e+06</td>\n",
       "      <td>38645.0000</td>\n",
       "      <td>9.721728e+07</td>\n",
       "      <td>30.594145</td>\n",
       "      <td>1051.309285</td>\n",
       "    </tr>\n",
       "  </tbody>\n",
       "</table>\n",
       "</div>"
      ],
      "text/plain": [
       "            attributes        min           max         range          mean  \\\n",
       "0           fechamento     0.2950  6.343138e+04  6.343108e+04  5.301690e+03   \n",
       "1             variacao -5616.6100  7.082840e+03  1.269945e+04  8.066490e+00   \n",
       "2  retorno_mensal_perc    -0.3897  5.289000e-01  9.186000e-01  4.356808e-03   \n",
       "3             abertura     0.2950  6.348571e+04  6.348542e+04  5.293858e+03   \n",
       "4               maxima     0.2990  6.490000e+04  6.489970e+04  5.474775e+03   \n",
       "5               minima     0.2890  6.203673e+04  6.203644e+04  5.090329e+03   \n",
       "6               volume     0.0000  4.057878e+09  4.057878e+09  3.948122e+06   \n",
       "\n",
       "      mediana           std       skew     kurtosis  \n",
       "0    623.0600  1.042060e+04   3.362294    12.129609  \n",
       "1      0.0600  5.102832e+02   0.360288    44.414746  \n",
       "2      0.0019  5.165994e-02   0.749897    13.685814  \n",
       "3    622.4700  1.041342e+04   3.369388    12.187477  \n",
       "4    629.2700  1.077328e+04   3.350119    11.973559  \n",
       "5    610.2300  9.984463e+03   3.384465    12.395796  \n",
       "6  38645.0000  9.721728e+07  30.594145  1051.309285  "
      ]
     },
     "execution_count": 31,
     "metadata": {},
     "output_type": "execute_result"
    }
   ],
   "source": [
    "## BITCOIN\n",
    "# central tendency - mean, median\n",
    "ct1 = pd.DataFrame( num_attributes_bit.apply( np.mean ) ).T\n",
    "ct2 = pd.DataFrame( num_attributes_bit.apply( np.median ) ).T\n",
    "             \n",
    "# dispersion - desvio padrão, minimo, maximo, range, skew, kurtosis\n",
    "d1 = pd.DataFrame( num_attributes_bit.apply( np.std ) ).T\n",
    "d2 = pd.DataFrame( num_attributes_bit.apply( np.min ) ).T\n",
    "d3 = pd.DataFrame( num_attributes_bit.apply( np.max ) ).T\n",
    "d4 = pd.DataFrame( num_attributes_bit.apply( lambda x: x.max() - x.min() ) ).T\n",
    "d5 = pd.DataFrame( num_attributes_bit.apply( lambda x: x.skew() ) ).T\n",
    "d6 = pd.DataFrame( num_attributes_bit.apply( lambda x: x.kurtosis() ) ).T\n",
    "\n",
    "# concatenate\n",
    "m = pd.concat( [d2, d3, d4, ct1, ct2, d1, d5, d6] ).T.reset_index()\n",
    "m.columns = ['attributes', 'min', 'max', 'range', 'mean', 'mediana', 'std', 'skew', 'kurtosis']\n",
    "m"
   ]
  },
  {
   "cell_type": "code",
   "execution_count": 32,
   "id": "c4cb9704-02dd-4119-9e83-2c28f686cd3b",
   "metadata": {},
   "outputs": [
    {
     "data": {
      "text/html": [
       "<div>\n",
       "<style scoped>\n",
       "    .dataframe tbody tr th:only-of-type {\n",
       "        vertical-align: middle;\n",
       "    }\n",
       "\n",
       "    .dataframe tbody tr th {\n",
       "        vertical-align: top;\n",
       "    }\n",
       "\n",
       "    .dataframe thead th {\n",
       "        text-align: right;\n",
       "    }\n",
       "</style>\n",
       "<table border=\"1\" class=\"dataframe\">\n",
       "  <thead>\n",
       "    <tr style=\"text-align: right;\">\n",
       "      <th></th>\n",
       "      <th>attributes</th>\n",
       "      <th>min</th>\n",
       "      <th>max</th>\n",
       "      <th>range</th>\n",
       "      <th>mean</th>\n",
       "      <th>mediana</th>\n",
       "      <th>std</th>\n",
       "      <th>skew</th>\n",
       "      <th>kurtosis</th>\n",
       "    </tr>\n",
       "  </thead>\n",
       "  <tbody>\n",
       "    <tr>\n",
       "      <th>0</th>\n",
       "      <td>fechamento</td>\n",
       "      <td>0.434829</td>\n",
       "      <td>4.154580e+03</td>\n",
       "      <td>4.154145e+03</td>\n",
       "      <td>3.912500e+02</td>\n",
       "      <td>199.230000</td>\n",
       "      <td>6.096500e+02</td>\n",
       "      <td>2.859422</td>\n",
       "      <td>8.977528</td>\n",
       "    </tr>\n",
       "    <tr>\n",
       "      <th>1</th>\n",
       "      <td>variacao</td>\n",
       "      <td>-862.740000</td>\n",
       "      <td>5.256700e+02</td>\n",
       "      <td>1.388410e+03</td>\n",
       "      <td>8.245633e-01</td>\n",
       "      <td>0.000044</td>\n",
       "      <td>4.747102e+01</td>\n",
       "      <td>-2.015470</td>\n",
       "      <td>76.285046</td>\n",
       "    </tr>\n",
       "    <tr>\n",
       "      <th>2</th>\n",
       "      <td>retorno_mensal_perc</td>\n",
       "      <td>-0.728200</td>\n",
       "      <td>5.073000e-01</td>\n",
       "      <td>1.235500e+00</td>\n",
       "      <td>5.276934e-03</td>\n",
       "      <td>0.000300</td>\n",
       "      <td>6.563713e-02</td>\n",
       "      <td>0.146124</td>\n",
       "      <td>13.705567</td>\n",
       "    </tr>\n",
       "    <tr>\n",
       "      <th>3</th>\n",
       "      <td>abertura</td>\n",
       "      <td>0.000000</td>\n",
       "      <td>4.176250e+03</td>\n",
       "      <td>4.176250e+03</td>\n",
       "      <td>3.898843e+02</td>\n",
       "      <td>198.530000</td>\n",
       "      <td>6.080454e+02</td>\n",
       "      <td>2.857727</td>\n",
       "      <td>8.933551</td>\n",
       "    </tr>\n",
       "    <tr>\n",
       "      <th>4</th>\n",
       "      <td>maxima</td>\n",
       "      <td>0.000000</td>\n",
       "      <td>4.384430e+03</td>\n",
       "      <td>4.384430e+03</td>\n",
       "      <td>4.078917e+02</td>\n",
       "      <td>206.440000</td>\n",
       "      <td>6.376551e+02</td>\n",
       "      <td>2.877537</td>\n",
       "      <td>9.143334</td>\n",
       "    </tr>\n",
       "    <tr>\n",
       "      <th>5</th>\n",
       "      <td>minima</td>\n",
       "      <td>0.000000</td>\n",
       "      <td>3.934010e+03</td>\n",
       "      <td>3.934010e+03</td>\n",
       "      <td>3.694176e+02</td>\n",
       "      <td>189.600000</td>\n",
       "      <td>5.728704e+02</td>\n",
       "      <td>2.849033</td>\n",
       "      <td>8.872475</td>\n",
       "    </tr>\n",
       "    <tr>\n",
       "      <th>6</th>\n",
       "      <td>volume</td>\n",
       "      <td>0.000000</td>\n",
       "      <td>3.132331e+08</td>\n",
       "      <td>3.132331e+08</td>\n",
       "      <td>1.750739e+06</td>\n",
       "      <td>586411.000000</td>\n",
       "      <td>9.629292e+06</td>\n",
       "      <td>23.102170</td>\n",
       "      <td>630.799124</td>\n",
       "    </tr>\n",
       "  </tbody>\n",
       "</table>\n",
       "</div>"
      ],
      "text/plain": [
       "            attributes         min           max         range          mean  \\\n",
       "0           fechamento    0.434829  4.154580e+03  4.154145e+03  3.912500e+02   \n",
       "1             variacao -862.740000  5.256700e+02  1.388410e+03  8.245633e-01   \n",
       "2  retorno_mensal_perc   -0.728200  5.073000e-01  1.235500e+00  5.276934e-03   \n",
       "3             abertura    0.000000  4.176250e+03  4.176250e+03  3.898843e+02   \n",
       "4               maxima    0.000000  4.384430e+03  4.384430e+03  4.078917e+02   \n",
       "5               minima    0.000000  3.934010e+03  3.934010e+03  3.694176e+02   \n",
       "6               volume    0.000000  3.132331e+08  3.132331e+08  1.750739e+06   \n",
       "\n",
       "         mediana           std       skew    kurtosis  \n",
       "0     199.230000  6.096500e+02   2.859422    8.977528  \n",
       "1       0.000044  4.747102e+01  -2.015470   76.285046  \n",
       "2       0.000300  6.563713e-02   0.146124   13.705567  \n",
       "3     198.530000  6.080454e+02   2.857727    8.933551  \n",
       "4     206.440000  6.376551e+02   2.877537    9.143334  \n",
       "5     189.600000  5.728704e+02   2.849033    8.872475  \n",
       "6  586411.000000  9.629292e+06  23.102170  630.799124  "
      ]
     },
     "execution_count": 32,
     "metadata": {},
     "output_type": "execute_result"
    }
   ],
   "source": [
    "## ETHEREUM\n",
    "# central tendency - mean, median\n",
    "ct1 = pd.DataFrame( num_attributes_eth.apply( np.mean ) ).T\n",
    "ct2 = pd.DataFrame( num_attributes_eth.apply( np.median ) ).T\n",
    "             \n",
    "# dispersion - desvio padrão, minimo, maximo, range, skew, kurtosis\n",
    "d1 = pd.DataFrame( num_attributes_eth.apply( np.std ) ).T\n",
    "d2 = pd.DataFrame( num_attributes_eth.apply( np.min ) ).T\n",
    "d3 = pd.DataFrame( num_attributes_eth.apply( np.max ) ).T\n",
    "d4 = pd.DataFrame( num_attributes_eth.apply( lambda x: x.max() - x.min() ) ).T\n",
    "d5 = pd.DataFrame( num_attributes_eth.apply( lambda x: x.skew() ) ).T\n",
    "d6 = pd.DataFrame( num_attributes_eth.apply( lambda x: x.kurtosis() ) ).T\n",
    "\n",
    "# concatenate\n",
    "m = pd.concat( [d2, d3, d4, ct1, ct2, d1, d5, d6] ).T.reset_index()\n",
    "m.columns = ['attributes', 'min', 'max', 'range', 'mean', 'mediana', 'std', 'skew', 'kurtosis']\n",
    "m"
   ]
  },
  {
   "cell_type": "markdown",
   "id": "7e1f39fd-62c4-47f2-a389-e33e47cb95ba",
   "metadata": {
    "jp-MarkdownHeadingCollapsed": true,
    "tags": []
   },
   "source": [
    "## **3.0. Feature engenering**"
   ]
  },
  {
   "cell_type": "code",
   "execution_count": 52,
   "id": "8025e5e8-c806-45e7-90f0-641fa517d92c",
   "metadata": {},
   "outputs": [],
   "source": [
    "df3_dolar     = df2_dolar.copy()\n",
    "df3_bova11    = df2_bova11.copy()\n",
    "df3_smal11    = df2_smal11.copy()\n",
    "df3_bitcoin   = df2_bitcoin.copy()\n",
    "df3_ethereum  = df2_ethereum.copy()"
   ]
  },
  {
   "cell_type": "markdown",
   "id": "88884a51-840a-4909-917a-5bca36170413",
   "metadata": {},
   "source": [
    "### 3.1. Mapa mental de hipoteses"
   ]
  },
  {
   "cell_type": "code",
   "execution_count": 53,
   "id": "b001425c-e79b-47f3-9b91-cb7934606069",
   "metadata": {},
   "outputs": [
    {
     "data": {
      "image/png": "[encoded data removed]",
      "text/plain": [
       "<IPython.core.display.Image object>"
      ]
     },
     "execution_count": 53,
     "metadata": {},
     "output_type": "execute_result"
    }
   ],
   "source": [
    "Image( 'img/mapa.png' )"
   ]
  },
  {
   "cell_type": "markdown",
   "id": "aa90e4f0-b083-4b14-b5fb-5b772fbe746f",
   "metadata": {
    "tags": []
   },
   "source": [
    "### 3.2. Criação de hipoteses"
   ]
  },
  {
   "cell_type": "markdown",
   "id": "8b482344-0e99-4c1c-9514-b4150910f1b6",
   "metadata": {},
   "source": [
    "#### 3.2.1. Clientes"
   ]
  },
  {
   "cell_type": "markdown",
   "id": "c7c1afaf-7aa3-401f-9ad6-432cb0c1b5a3",
   "metadata": {},
   "source": [
    "1 - Maiores clientes tem capacidade de movimentar o mercado a seu favor\n",
    "\n",
    "2 - Pessoas fisicas buscam maior segurança na hora de realizar investimentos\n",
    "\n",
    "3 - Clientes de maior idade costumam investir em ativos imobiliarios com maior frequencia\n",
    "\n",
    "4 - Clientes de menor idade preferem investimentos de alto risco\n",
    "\n",
    "5 - Mulheres tem preferencia por realizar investimentos na area de varejo\n",
    "\n",
    "6 - Homens tem preferencia por realizar investimentos na area de Agro\n",
    "\n",
    "7 - O mercado de petrolio é o mais escolhido por clientes com CNPJ\n",
    "\n",
    "8 - Clientes que fazem investimentos de risco baixo ao longo dos anos tem o dobro de lucro comparado aos que fazem de alto risco e tem menos de 24 anos"
   ]
  },
  {
   "cell_type": "markdown",
   "id": "77b1ab60-fd97-4d08-b082-8a3076708a7b",
   "metadata": {},
   "source": [
    "#### 3.2.2. Politicas externas"
   ]
  },
  {
   "cell_type": "markdown",
   "id": "2c97688f-1f4b-4943-bcda-dc22fb2a2714",
   "metadata": {},
   "source": [
    "1 - Paises com politicas acordos bilaterais tem as bolsas com maior volume comparado aos demais"
   ]
  },
  {
   "cell_type": "markdown",
   "id": "7dfb1ca0-b9ba-4373-8ff0-4025f7e7678d",
   "metadata": {},
   "source": [
    "#### 3.2.3. Temporal"
   ]
  },
  {
   "cell_type": "markdown",
   "id": "f79f6ed5-cbbe-478a-b717-f4313728e2a5",
   "metadata": {},
   "source": [
    "1 - Bolsas que não fecham aos finais de semana tem a maior quantidade de clientes\n",
    "\n",
    "2 - Bolsas de horario aposto as duas maiores do mundo (EUA e Japão) tem maior volume transacionado no momento de fechamento x abertura \n",
    "\n",
    "3 - Criptomoedas tem maior rentabilidade maior com o passar dos anos comparado a ações comuns \n",
    "\n",
    "4 - Ano eleitoral no Brasil a bolsa tem uma forte queda nos preços\n",
    "\n",
    "5 - No natal as movimentações são menores\n",
    "\n",
    "6 - No inicio do ano os preços sobem e ao final tendem a diminuir"
   ]
  },
  {
   "cell_type": "markdown",
   "id": "f205df02-458d-49e5-91cb-40712b3c154b",
   "metadata": {},
   "source": [
    "#### 3.2.4. Politicas internas"
   ]
  },
  {
   "cell_type": "markdown",
   "id": "bd5fc98a-e464-4b87-8977-9380fb34e0b6",
   "metadata": {},
   "source": [
    "1 - Paises focados no desenvolvimento e com PIB em crescimento positivo sofrem menos com quedas na bolsa\n",
    "\n",
    "2 - Paises que vem realizando uma policita de aumento de impostos tendem a ter menos clientes ativos na bolsa\n",
    "\n",
    "3 - Paises que fazem incentivos aos estudos financeiros nas escolas tem o maior numero de clientes ativos no mercado financeiro"
   ]
  },
  {
   "cell_type": "markdown",
   "id": "6dd4e1aa-c103-4f1f-b0ae-8cd82cab9132",
   "metadata": {},
   "source": [
    "#### 3.2.5. Corretoras"
   ]
  },
  {
   "cell_type": "markdown",
   "id": "b41465ad-15c1-4646-8575-96360fa7235b",
   "metadata": {},
   "source": [
    "1 - Corretoras com menores taxas tem maior quantidade de clientes em modo de churn\n",
    "\n",
    "2 - Corretoras com maiores taxas de transações mas com o melhor suporte tem clientes com as maiores carteiras de investimentos\n",
    "\n",
    "3 - Corretoras que oferecem plataformas de trading gratuitas conseguem mais clientes que se fidelizam ao longo do tempo\n",
    "\n",
    "4 - A Binance teve o maior valor financeiro transacionado do que a XP, Modal e Rico juntas"
   ]
  },
  {
   "cell_type": "markdown",
   "id": "6865cbe7-eae8-44b8-a72f-2a812e431b9f",
   "metadata": {},
   "source": [
    "#### 3.2.6. Bolsa de valores"
   ]
  },
  {
   "cell_type": "markdown",
   "id": "ea840059-f554-44bb-af79-fedc70eaaf0d",
   "metadata": {},
   "source": [
    "1 - As bolsas dos EUA tem o maior volume transacionado do que a do Brasil, Argentia e Chile juntas\n",
    "\n",
    "2  - A B3 tem atualmente o maior numero de investidores do Brasil de todos os anos \n",
    "\n",
    "3 - A abertura de fundos de investimentos comercializados na B3 vem em alta nos ultimos 3 anos\n",
    "\n",
    "4 - NASDAQ e TOKYO tem quantidade de clientes parecidas"
   ]
  },
  {
   "cell_type": "markdown",
   "id": "cb10f547-518d-4455-beca-d17e3f504782",
   "metadata": {},
   "source": [
    "#### 3.2.7. Clientes"
   ]
  },
  {
   "cell_type": "markdown",
   "id": "04ad9508-cabf-454c-9c22-992a3cc9b1b9",
   "metadata": {},
   "source": [
    "1 - Clientes que investem em papeis do seguimento de petroleo tem as menores perdas \n",
    "\n",
    "2 - Clientes que tem idade maior que 35 anos conseguem o dobro de rentabilidade que pessoas abaixo de 30\n",
    "\n",
    "3 - Clientes que vivem no estado de São paulo preferem investimentos de risco controlado\n",
    "\n",
    "4 - Clientes que  vivem no região Sul do Brasil iniciam na bolsa com mercade de indice futuro\n",
    "\n",
    "5 - Clientes que tem a maior diverisificação de produtos são os que menos sofrem com as variações do mercado "
   ]
  },
  {
   "cell_type": "markdown",
   "id": "3ba6b89d-2adf-4db5-a764-e5e134af7e33",
   "metadata": {},
   "source": [
    "#### 3.2.8. País"
   ]
  },
  {
   "cell_type": "markdown",
   "id": "0d604dd1-6491-4b8d-8a4f-d7b83c52988b",
   "metadata": {},
   "source": [
    "1 - O Brasil é o país que vem com maior crescimento de investidores comparado aos outros emergentes\n",
    "\n",
    "2 - Os papeis relacionados ao agro negocio no Brasil são as melhores escolhas ao longo dos anos\n",
    "\n",
    "3 - IVVB11 tem a rentabilidade aumentada quando o Dolar aumenta em relação ao preço do Real\n",
    "\n",
    "4 - BOVA11 teve forte queda no inicio da pandemia no Brasil"
   ]
  },
  {
   "cell_type": "markdown",
   "id": "9a6506ad-2e2d-439d-8601-9338952f7ec6",
   "metadata": {},
   "source": [
    "#### 3.2.9. Produtos"
   ]
  },
  {
   "cell_type": "markdown",
   "id": "881756b9-7731-4946-8da3-fe26112d809b",
   "metadata": {},
   "source": [
    "1 - O dolar tem o volume menor que o Bitcoin\n",
    "\n",
    "2 - Se BOVA11 sobe de preço SMAL11 segue o crescimento de forma parecida\n",
    "\n",
    "3 - No ultimo ano Bitcoin e Ethereum tiveram melhor rentabilidade comparada ao dolar\n",
    "\n",
    "4 - BOVA11 tem seu preço derrubado em ano de eleição presidencial\n",
    "\n",
    "5 - IVVB11 aumenta após fim das eleições norte americanas"
   ]
  },
  {
   "cell_type": "markdown",
   "id": "38905600-2169-4150-974d-8de31153a173",
   "metadata": {},
   "source": [
    "### 3.3. Lista final de Hiposteses"
   ]
  },
  {
   "cell_type": "markdown",
   "id": "ee1a2572-0fb7-4b26-8602-7406f4388bef",
   "metadata": {},
   "source": [
    "1 - O dolar tem o volume menor que o Bitcoin\n",
    "\n",
    "2 - Se BOVA11 sobe de preço SMAL11 segue o crescimento de forma parecida\n",
    "\n",
    "3 - No ultimo ano Bitcoin e Ethereum tiveram melhor rentabilidade comparada ao dolar\n",
    "\n",
    "4 - BOVA11 tem seu preço derrubado em ano de eleição presidencial\n",
    "\n",
    "5 - IVVB11 aumenta após fim das eleições norte americanas"
   ]
  },
  {
   "cell_type": "markdown",
   "id": "cd03c609-8d26-4bb6-bcf7-48784f2a4261",
   "metadata": {},
   "source": [
    "OBS: A a criação do mapa mental contendo o fenomeno que estamos tentando entender respectivamente com seus agentes que impactam nesse fenenome e seus atributos, tem como objetivo principal auxiliar na elaboração de uma diversificação maior e trazendo o Cientista de dados para dentro do contexto do negocio para assim conseguir propor as melhroes soluções com dados e tambem levantar a necessidade de se buscar datasets complementares para responder as questões que não foram para a Lista final de hipoteses no primeiro ciclo do CRISP-DS"
   ]
  },
  {
   "cell_type": "markdown",
   "id": "598c3c3d-fcfe-41d1-82f1-f7b42f133b9a",
   "metadata": {},
   "source": [
    "### 3.1. Feature Creation"
   ]
  },
  {
   "cell_type": "code",
   "execution_count": 54,
   "id": "7e2f0f92-e0c7-4e99-890c-6d60e0fb2617",
   "metadata": {},
   "outputs": [],
   "source": [
    "# Criar features do dia, semana do mes, mes e ano \n",
    "# facilita para encontrar eventos especificos que desencaderam determinados comportamentos nos dados, eleições, feriados, etc..."
   ]
  },
  {
   "cell_type": "code",
   "execution_count": 55,
   "id": "db1a3488-a544-4772-b64e-f132a34fff06",
   "metadata": {},
   "outputs": [
    {
     "data": {
      "text/html": [
       "<div>\n",
       "<style scoped>\n",
       "    .dataframe tbody tr th:only-of-type {\n",
       "        vertical-align: middle;\n",
       "    }\n",
       "\n",
       "    .dataframe tbody tr th {\n",
       "        vertical-align: top;\n",
       "    }\n",
       "\n",
       "    .dataframe thead th {\n",
       "        text-align: right;\n",
       "    }\n",
       "</style>\n",
       "<table border=\"1\" class=\"dataframe\">\n",
       "  <thead>\n",
       "    <tr style=\"text-align: right;\">\n",
       "      <th></th>\n",
       "      <th>data</th>\n",
       "    </tr>\n",
       "  </thead>\n",
       "  <tbody>\n",
       "    <tr>\n",
       "      <th>0</th>\n",
       "      <td>2021-07-19</td>\n",
       "    </tr>\n",
       "    <tr>\n",
       "      <th>1</th>\n",
       "      <td>2021-07-18</td>\n",
       "    </tr>\n",
       "    <tr>\n",
       "      <th>2</th>\n",
       "      <td>2021-07-17</td>\n",
       "    </tr>\n",
       "    <tr>\n",
       "      <th>3</th>\n",
       "      <td>2021-07-16</td>\n",
       "    </tr>\n",
       "    <tr>\n",
       "      <th>4</th>\n",
       "      <td>2021-07-15</td>\n",
       "    </tr>\n",
       "  </tbody>\n",
       "</table>\n",
       "</div>"
      ],
      "text/plain": [
       "        data\n",
       "0 2021-07-19\n",
       "1 2021-07-18\n",
       "2 2021-07-17\n",
       "3 2021-07-16\n",
       "4 2021-07-15"
      ]
     },
     "execution_count": 55,
     "metadata": {},
     "output_type": "execute_result"
    }
   ],
   "source": [
    "df3_dolar[['data']].head()"
   ]
  },
  {
   "cell_type": "code",
   "execution_count": 56,
   "id": "b3c92a4a-6e4a-49c5-b5ac-0a97cde6eaac",
   "metadata": {},
   "outputs": [
    {
     "name": "stderr",
     "output_type": "stream",
     "text": [
      "/tmp/ipykernel_135/3343548599.py:4: FutureWarning: Series.dt.weekofyear and Series.dt.week have been deprecated.  Please use Series.dt.isocalendar().week instead.\n",
      "  df3_dolar['semana_ano'] = df3_dolar['data'].dt.weekofyear\n",
      "/tmp/ipykernel_135/3343548599.py:10: FutureWarning: Series.dt.weekofyear and Series.dt.week have been deprecated.  Please use Series.dt.isocalendar().week instead.\n",
      "  df3_bova11['semana_ano'] = df3_bova11['data'].dt.weekofyear\n",
      "/tmp/ipykernel_135/3343548599.py:16: FutureWarning: Series.dt.weekofyear and Series.dt.week have been deprecated.  Please use Series.dt.isocalendar().week instead.\n",
      "  df3_smal11['semana_ano'] = df3_smal11['data'].dt.weekofyear\n",
      "/tmp/ipykernel_135/3343548599.py:22: FutureWarning: Series.dt.weekofyear and Series.dt.week have been deprecated.  Please use Series.dt.isocalendar().week instead.\n",
      "  df3_bitcoin['semana_ano'] = df3_bitcoin['data'].dt.weekofyear\n",
      "/tmp/ipykernel_135/3343548599.py:28: FutureWarning: Series.dt.weekofyear and Series.dt.week have been deprecated.  Please use Series.dt.isocalendar().week instead.\n",
      "  df3_ethereum['semana_ano'] = df3_ethereum['data'].dt.weekofyear\n"
     ]
    }
   ],
   "source": [
    "# Dolar\n",
    "df3_dolar['dia'] = df3_dolar['data'].dt.day\n",
    "df3_dolar['mes'] = df3_dolar['data'].dt.month\n",
    "df3_dolar['semana_ano'] = df3_dolar['data'].dt.weekofyear\n",
    "df3_dolar['ano'] = df3_dolar['data'].dt.year\n",
    "\n",
    "# BOVA11\n",
    "df3_bova11['dia'] = df3_bova11['data'].dt.day\n",
    "df3_bova11['mes'] = df3_bova11['data'].dt.month\n",
    "df3_bova11['semana_ano'] = df3_bova11['data'].dt.weekofyear\n",
    "df3_bova11['ano'] = df3_bova11['data'].dt.year\n",
    "\n",
    "# SMAL11\n",
    "df3_smal11['dia'] = df3_smal11['data'].dt.day\n",
    "df3_smal11['mes'] = df3_smal11['data'].dt.month\n",
    "df3_smal11['semana_ano'] = df3_smal11['data'].dt.weekofyear\n",
    "df3_smal11['ano'] = df3_smal11['data'].dt.year\n",
    "\n",
    "# Bitcoin\n",
    "df3_bitcoin['dia'] = df3_bitcoin['data'].dt.day\n",
    "df3_bitcoin['mes'] = df3_bitcoin['data'].dt.month\n",
    "df3_bitcoin['semana_ano'] = df3_bitcoin['data'].dt.weekofyear\n",
    "df3_bitcoin['ano'] = df3_bitcoin['data'].dt.year\n",
    "\n",
    "# Ethereum\n",
    "df3_ethereum['dia'] = df3_ethereum['data'].dt.day\n",
    "df3_ethereum['mes'] = df3_ethereum['data'].dt.month\n",
    "df3_ethereum['semana_ano'] = df3_ethereum['data'].dt.weekofyear\n",
    "df3_ethereum['ano'] = df3_ethereum['data'].dt.year\n"
   ]
  },
  {
   "cell_type": "code",
   "execution_count": 63,
   "id": "e2523c9e-42f9-4596-a097-3dd1d2509822",
   "metadata": {},
   "outputs": [],
   "source": [
    "# Categorizar dados e concatenar dataframe\n",
    "\n",
    "df3_dolar['papel'] = 'dolar' \n",
    "df3_bova11['papel'] = 'bova11'\n",
    "df3_smal11['papel'] = 'smal11'\n",
    "df3_bitcoin['papel'] = 'bitcoin'\n",
    "df3_ethereum['papel'] = 'ethereum'"
   ]
  },
  {
   "cell_type": "code",
   "execution_count": 64,
   "id": "8da19a0a-7379-4a39-a2b0-6373ee1e4824",
   "metadata": {},
   "outputs": [
    {
     "data": {
      "text/html": [
       "<div>\n",
       "<style scoped>\n",
       "    .dataframe tbody tr th:only-of-type {\n",
       "        vertical-align: middle;\n",
       "    }\n",
       "\n",
       "    .dataframe tbody tr th {\n",
       "        vertical-align: top;\n",
       "    }\n",
       "\n",
       "    .dataframe thead th {\n",
       "        text-align: right;\n",
       "    }\n",
       "</style>\n",
       "<table border=\"1\" class=\"dataframe\">\n",
       "  <thead>\n",
       "    <tr style=\"text-align: right;\">\n",
       "      <th></th>\n",
       "      <th>data</th>\n",
       "      <th>fechamento</th>\n",
       "      <th>variacao</th>\n",
       "      <th>retorno_mensal_perc</th>\n",
       "      <th>abertura</th>\n",
       "      <th>maxima</th>\n",
       "      <th>minima</th>\n",
       "      <th>volume</th>\n",
       "      <th>dia</th>\n",
       "      <th>mes</th>\n",
       "      <th>semana_ano</th>\n",
       "      <th>ano</th>\n",
       "      <th>papel</th>\n",
       "    </tr>\n",
       "  </thead>\n",
       "  <tbody>\n",
       "    <tr>\n",
       "      <th>4</th>\n",
       "      <td>2021-07-15</td>\n",
       "      <td>5.1115</td>\n",
       "      <td>0.04</td>\n",
       "      <td>0.0079</td>\n",
       "      <td>5.0718</td>\n",
       "      <td>5.1385</td>\n",
       "      <td>5.05626</td>\n",
       "      <td>0</td>\n",
       "      <td>15</td>\n",
       "      <td>7</td>\n",
       "      <td>28</td>\n",
       "      <td>2021</td>\n",
       "      <td>dolar</td>\n",
       "    </tr>\n",
       "  </tbody>\n",
       "</table>\n",
       "</div>"
      ],
      "text/plain": [
       "        data  fechamento  variacao  retorno_mensal_perc  abertura  maxima  \\\n",
       "4 2021-07-15      5.1115      0.04               0.0079    5.0718  5.1385   \n",
       "\n",
       "    minima  volume  dia  mes  semana_ano   ano  papel  \n",
       "4  5.05626       0   15    7          28  2021  dolar  "
      ]
     },
     "execution_count": 64,
     "metadata": {},
     "output_type": "execute_result"
    }
   ],
   "source": [
    "df3_dolar.sample()"
   ]
  },
  {
   "cell_type": "code",
   "execution_count": 65,
   "id": "d9562807-c9be-4012-97a7-95341a992681",
   "metadata": {},
   "outputs": [
    {
     "data": {
      "text/html": [
       "<div>\n",
       "<style scoped>\n",
       "    .dataframe tbody tr th:only-of-type {\n",
       "        vertical-align: middle;\n",
       "    }\n",
       "\n",
       "    .dataframe tbody tr th {\n",
       "        vertical-align: top;\n",
       "    }\n",
       "\n",
       "    .dataframe thead th {\n",
       "        text-align: right;\n",
       "    }\n",
       "</style>\n",
       "<table border=\"1\" class=\"dataframe\">\n",
       "  <thead>\n",
       "    <tr style=\"text-align: right;\">\n",
       "      <th></th>\n",
       "      <th>data</th>\n",
       "      <th>fechamento</th>\n",
       "      <th>variacao</th>\n",
       "      <th>retorno_mensal_perc</th>\n",
       "      <th>abertura</th>\n",
       "      <th>maxima</th>\n",
       "      <th>minima</th>\n",
       "      <th>volume</th>\n",
       "      <th>dia</th>\n",
       "      <th>mes</th>\n",
       "      <th>semana_ano</th>\n",
       "      <th>ano</th>\n",
       "      <th>papel</th>\n",
       "    </tr>\n",
       "  </thead>\n",
       "  <tbody>\n",
       "    <tr>\n",
       "      <th>0</th>\n",
       "      <td>2021-07-19</td>\n",
       "      <td>5.25240</td>\n",
       "      <td>0.14</td>\n",
       "      <td>0.0268</td>\n",
       "      <td>5.11680</td>\n",
       "      <td>5.25820</td>\n",
       "      <td>5.11329</td>\n",
       "      <td>0</td>\n",
       "      <td>19</td>\n",
       "      <td>7</td>\n",
       "      <td>29</td>\n",
       "      <td>2021</td>\n",
       "      <td>dolar</td>\n",
       "    </tr>\n",
       "    <tr>\n",
       "      <th>1</th>\n",
       "      <td>2021-07-18</td>\n",
       "      <td>5.11550</td>\n",
       "      <td>0.00</td>\n",
       "      <td>0.0000</td>\n",
       "      <td>5.11571</td>\n",
       "      <td>5.11571</td>\n",
       "      <td>5.11550</td>\n",
       "      <td>0</td>\n",
       "      <td>18</td>\n",
       "      <td>7</td>\n",
       "      <td>28</td>\n",
       "      <td>2021</td>\n",
       "      <td>dolar</td>\n",
       "    </tr>\n",
       "    <tr>\n",
       "      <th>2</th>\n",
       "      <td>2021-07-17</td>\n",
       "      <td>5.11550</td>\n",
       "      <td>0.00</td>\n",
       "      <td>0.0000</td>\n",
       "      <td>5.11037</td>\n",
       "      <td>5.11550</td>\n",
       "      <td>5.11037</td>\n",
       "      <td>0</td>\n",
       "      <td>17</td>\n",
       "      <td>7</td>\n",
       "      <td>28</td>\n",
       "      <td>2021</td>\n",
       "      <td>dolar</td>\n",
       "    </tr>\n",
       "    <tr>\n",
       "      <th>3</th>\n",
       "      <td>2021-07-16</td>\n",
       "      <td>5.11545</td>\n",
       "      <td>0.00</td>\n",
       "      <td>0.0008</td>\n",
       "      <td>5.11180</td>\n",
       "      <td>5.12680</td>\n",
       "      <td>5.07570</td>\n",
       "      <td>0</td>\n",
       "      <td>16</td>\n",
       "      <td>7</td>\n",
       "      <td>28</td>\n",
       "      <td>2021</td>\n",
       "      <td>dolar</td>\n",
       "    </tr>\n",
       "    <tr>\n",
       "      <th>4</th>\n",
       "      <td>2021-07-15</td>\n",
       "      <td>5.11150</td>\n",
       "      <td>0.04</td>\n",
       "      <td>0.0079</td>\n",
       "      <td>5.07180</td>\n",
       "      <td>5.13850</td>\n",
       "      <td>5.05626</td>\n",
       "      <td>0</td>\n",
       "      <td>15</td>\n",
       "      <td>7</td>\n",
       "      <td>28</td>\n",
       "      <td>2021</td>\n",
       "      <td>dolar</td>\n",
       "    </tr>\n",
       "    <tr>\n",
       "      <th>...</th>\n",
       "      <td>...</td>\n",
       "      <td>...</td>\n",
       "      <td>...</td>\n",
       "      <td>...</td>\n",
       "      <td>...</td>\n",
       "      <td>...</td>\n",
       "      <td>...</td>\n",
       "      <td>...</td>\n",
       "      <td>...</td>\n",
       "      <td>...</td>\n",
       "      <td>...</td>\n",
       "      <td>...</td>\n",
       "      <td>...</td>\n",
       "    </tr>\n",
       "    <tr>\n",
       "      <th>2206</th>\n",
       "      <td>2021-05-24</td>\n",
       "      <td>2636.70000</td>\n",
       "      <td>525.67</td>\n",
       "      <td>0.2490</td>\n",
       "      <td>2133.21000</td>\n",
       "      <td>2678.25000</td>\n",
       "      <td>2072.15000</td>\n",
       "      <td>1061703</td>\n",
       "      <td>24</td>\n",
       "      <td>5</td>\n",
       "      <td>21</td>\n",
       "      <td>2021</td>\n",
       "      <td>ethereum</td>\n",
       "    </tr>\n",
       "    <tr>\n",
       "      <th>2207</th>\n",
       "      <td>2021-05-23</td>\n",
       "      <td>2111.03000</td>\n",
       "      <td>-196.08</td>\n",
       "      <td>-0.0850</td>\n",
       "      <td>2272.03000</td>\n",
       "      <td>2382.00000</td>\n",
       "      <td>1728.00000</td>\n",
       "      <td>1172601</td>\n",
       "      <td>23</td>\n",
       "      <td>5</td>\n",
       "      <td>20</td>\n",
       "      <td>2021</td>\n",
       "      <td>ethereum</td>\n",
       "    </tr>\n",
       "    <tr>\n",
       "      <th>2208</th>\n",
       "      <td>2021-05-22</td>\n",
       "      <td>2307.11000</td>\n",
       "      <td>-76.08</td>\n",
       "      <td>-0.0319</td>\n",
       "      <td>2344.68000</td>\n",
       "      <td>2385.56000</td>\n",
       "      <td>2255.00000</td>\n",
       "      <td>292784</td>\n",
       "      <td>22</td>\n",
       "      <td>5</td>\n",
       "      <td>20</td>\n",
       "      <td>2021</td>\n",
       "      <td>ethereum</td>\n",
       "    </tr>\n",
       "    <tr>\n",
       "      <th>2209</th>\n",
       "      <td>2021-05-21</td>\n",
       "      <td>2383.19000</td>\n",
       "      <td>-373.20</td>\n",
       "      <td>-0.1354</td>\n",
       "      <td>2823.77000</td>\n",
       "      <td>2950.00000</td>\n",
       "      <td>2106.33000</td>\n",
       "      <td>1108166</td>\n",
       "      <td>21</td>\n",
       "      <td>5</td>\n",
       "      <td>20</td>\n",
       "      <td>2021</td>\n",
       "      <td>ethereum</td>\n",
       "    </tr>\n",
       "    <tr>\n",
       "      <th>2210</th>\n",
       "      <td>2021-05-20</td>\n",
       "      <td>2756.39000</td>\n",
       "      <td>227.73</td>\n",
       "      <td>0.0901</td>\n",
       "      <td>2494.04000</td>\n",
       "      <td>2999.99000</td>\n",
       "      <td>2161.69000</td>\n",
       "      <td>1098529</td>\n",
       "      <td>20</td>\n",
       "      <td>5</td>\n",
       "      <td>20</td>\n",
       "      <td>2021</td>\n",
       "      <td>ethereum</td>\n",
       "    </tr>\n",
       "  </tbody>\n",
       "</table>\n",
       "<p>16113 rows × 13 columns</p>\n",
       "</div>"
      ],
      "text/plain": [
       "           data  fechamento  variacao  retorno_mensal_perc    abertura  \\\n",
       "0    2021-07-19     5.25240      0.14               0.0268     5.11680   \n",
       "1    2021-07-18     5.11550      0.00               0.0000     5.11571   \n",
       "2    2021-07-17     5.11550      0.00               0.0000     5.11037   \n",
       "3    2021-07-16     5.11545      0.00               0.0008     5.11180   \n",
       "4    2021-07-15     5.11150      0.04               0.0079     5.07180   \n",
       "...         ...         ...       ...                  ...         ...   \n",
       "2206 2021-05-24  2636.70000    525.67               0.2490  2133.21000   \n",
       "2207 2021-05-23  2111.03000   -196.08              -0.0850  2272.03000   \n",
       "2208 2021-05-22  2307.11000    -76.08              -0.0319  2344.68000   \n",
       "2209 2021-05-21  2383.19000   -373.20              -0.1354  2823.77000   \n",
       "2210 2021-05-20  2756.39000    227.73               0.0901  2494.04000   \n",
       "\n",
       "          maxima      minima   volume  dia  mes  semana_ano   ano     papel  \n",
       "0        5.25820     5.11329        0   19    7          29  2021     dolar  \n",
       "1        5.11571     5.11550        0   18    7          28  2021     dolar  \n",
       "2        5.11550     5.11037        0   17    7          28  2021     dolar  \n",
       "3        5.12680     5.07570        0   16    7          28  2021     dolar  \n",
       "4        5.13850     5.05626        0   15    7          28  2021     dolar  \n",
       "...          ...         ...      ...  ...  ...         ...   ...       ...  \n",
       "2206  2678.25000  2072.15000  1061703   24    5          21  2021  ethereum  \n",
       "2207  2382.00000  1728.00000  1172601   23    5          20  2021  ethereum  \n",
       "2208  2385.56000  2255.00000   292784   22    5          20  2021  ethereum  \n",
       "2209  2950.00000  2106.33000  1108166   21    5          20  2021  ethereum  \n",
       "2210  2999.99000  2161.69000  1098529   20    5          20  2021  ethereum  \n",
       "\n",
       "[16113 rows x 13 columns]"
      ]
     },
     "execution_count": 65,
     "metadata": {},
     "output_type": "execute_result"
    }
   ],
   "source": [
    "# df3 = pd.DataFrame(df3_dolar, df3_bova11 columns = ['data', 'fechamento', 'variacao', 'retorno_mensal_perc', 'abertura', 'maxima', 'minima', 'volume', 'papel'])\n",
    "\n",
    "df3 = pd.concat([df3_dolar, df3_bova11, df3_smal11, df3_bitcoin, df3_ethereum ])\n",
    "\n",
    "df3"
   ]
  },
  {
   "cell_type": "markdown",
   "id": "efb18f84-b8e4-48dc-9b54-affc731cd769",
   "metadata": {},
   "source": [
    "**OBS: Para um proximo ciclo talvez seja interessante adicionar na coluna do dia atual, o fechamento do dia anterior, o fechamento do dia anterior influencia no preço do fechamento do dia**"
   ]
  },
  {
   "cell_type": "markdown",
   "id": "b316f631-51c6-417a-830b-63614c6edf2a",
   "metadata": {},
   "source": [
    "## **4.0. Exploratory data analysis**"
   ]
  },
  {
   "cell_type": "code",
   "execution_count": 66,
   "id": "de20fe6c-6c65-4ab0-9eb5-a3e13fcf2323",
   "metadata": {},
   "outputs": [],
   "source": [
    "df4 = df3.copy()"
   ]
  },
  {
   "cell_type": "code",
   "execution_count": 72,
   "id": "e750a1cc-32ee-4cca-ae44-b93c6efac0be",
   "metadata": {},
   "outputs": [
    {
     "data": {
      "text/html": [
       "<div>\n",
       "<style scoped>\n",
       "    .dataframe tbody tr th:only-of-type {\n",
       "        vertical-align: middle;\n",
       "    }\n",
       "\n",
       "    .dataframe tbody tr th {\n",
       "        vertical-align: top;\n",
       "    }\n",
       "\n",
       "    .dataframe thead th {\n",
       "        text-align: right;\n",
       "    }\n",
       "</style>\n",
       "<table border=\"1\" class=\"dataframe\">\n",
       "  <thead>\n",
       "    <tr style=\"text-align: right;\">\n",
       "      <th></th>\n",
       "      <th>data</th>\n",
       "      <th>fechamento</th>\n",
       "      <th>variacao</th>\n",
       "      <th>retorno_mensal_perc</th>\n",
       "      <th>abertura</th>\n",
       "      <th>maxima</th>\n",
       "      <th>minima</th>\n",
       "      <th>volume</th>\n",
       "      <th>dia</th>\n",
       "      <th>mes</th>\n",
       "      <th>semana_ano</th>\n",
       "      <th>ano</th>\n",
       "      <th>papel</th>\n",
       "    </tr>\n",
       "  </thead>\n",
       "  <tbody>\n",
       "    <tr>\n",
       "      <th>2711</th>\n",
       "      <td>2011-07-05</td>\n",
       "      <td>62.18</td>\n",
       "      <td>-0.77</td>\n",
       "      <td>-0.0122</td>\n",
       "      <td>62.6</td>\n",
       "      <td>63.0</td>\n",
       "      <td>62.18</td>\n",
       "      <td>233980</td>\n",
       "      <td>5</td>\n",
       "      <td>7</td>\n",
       "      <td>27</td>\n",
       "      <td>2011</td>\n",
       "      <td>bova11</td>\n",
       "    </tr>\n",
       "  </tbody>\n",
       "</table>\n",
       "</div>"
      ],
      "text/plain": [
       "           data  fechamento  variacao  retorno_mensal_perc  abertura  maxima  \\\n",
       "2711 2011-07-05       62.18     -0.77              -0.0122      62.6    63.0   \n",
       "\n",
       "      minima  volume  dia  mes  semana_ano   ano   papel  \n",
       "2711   62.18  233980    5    7          27  2011  bova11  "
      ]
     },
     "execution_count": 72,
     "metadata": {},
     "output_type": "execute_result"
    }
   ],
   "source": [
    "df4.sample()"
   ]
  },
  {
   "cell_type": "markdown",
   "id": "8eb3989e-bebf-4050-b456-66f8d6f98891",
   "metadata": {
    "tags": []
   },
   "source": [
    "### 4.1. Analise Univariada"
   ]
  },
  {
   "cell_type": "code",
   "execution_count": 124,
   "id": "1d7c266b-d4e7-4419-8947-6e2e11c5d27e",
   "metadata": {},
   "outputs": [
    {
     "data": {
      "image/png": "[encoded data removed]",
      "text/plain": [
       "<Figure size 864x720 with 7 Axes>"
      ]
     },
     "metadata": {},
     "output_type": "display_data"
    }
   ],
   "source": [
    "# fechamento\n",
    "plt.subplot( 3, 3, 1 )\n",
    "#plt.rcParams['figure.figsize'] = [12, 20]\n",
    "#sns.set()\n",
    "sns.distplot( df4['fechamento'], kde=False  );\n",
    "\n",
    "\n",
    "# fechamento\n",
    "plt.subplot( 3, 3, 2 )\n",
    "#plt.rcParams['figure.figsize'] = [12, 10]\n",
    "#sns.set()\n",
    "sns.distplot( df4['variacao'], kde=False  );\n",
    "\n",
    "# Retorno mensal em percentual \n",
    "plt.subplot( 3, 3, 3 )\n",
    "sns.distplot( df4['retorno_mensal_perc'], kde=False  );\n",
    "\n",
    "# Preço de abertura\n",
    "plt.subplot( 3, 3, 4 )\n",
    "sns.distplot( df4['abertura'], kde=False  );\n",
    "\n",
    "\n",
    "# Preço da maxima\n",
    "plt.subplot( 3, 3, 5 )\n",
    "sns.distplot( df4['maxima'], kde=False  );\n",
    "\n",
    "\n",
    "# Preço da minima\n",
    "plt.subplot( 3, 3, 6 )\n",
    "sns.distplot( df4['minima'], kde=False  );\n",
    "\n",
    "# Volume total do dia\n",
    "plt.subplot( 3, 3, 7 )\n",
    "sns.distplot( df4['volume'], kde=False  );"
   ]
  },
  {
   "cell_type": "markdown",
   "id": "34285cc4-b610-4ab3-86ea-26075bab77d5",
   "metadata": {},
   "source": [
    "##### 4.1.2. Variavel resposta"
   ]
  },
  {
   "cell_type": "code",
   "execution_count": 125,
   "id": "8a6164f2-4a25-4ab0-b037-ae7791e0c8ad",
   "metadata": {},
   "outputs": [
    {
     "data": {
      "image/png": "[encoded data removed]",
      "text/plain": [
       "<Figure size 864x720 with 1 Axes>"
      ]
     },
     "metadata": {},
     "output_type": "display_data"
    }
   ],
   "source": [
    "# fechamento\n",
    "# Estou considerando o fechamento como variavel respota pois é com o fechamento que as corretoras atualizam os valores em carteira de seus clientes\n",
    "\n",
    "sns.distplot( df4['fechamento'], kde=False  );"
   ]
  },
  {
   "cell_type": "markdown",
   "id": "a80d6e81-330a-4565-bfe4-c35134df51cd",
   "metadata": {},
   "source": [
    "### 4.2. Variavel numerica"
   ]
  },
  {
   "cell_type": "code",
   "execution_count": 129,
   "id": "279a6b6d-1fda-4c35-bc37-02e1671174dc",
   "metadata": {},
   "outputs": [
    {
     "data": {
      "image/png": "[encoded data removed]",
      "text/plain": [
       "<Figure size 864x720 with 12 Axes>"
      ]
     },
     "metadata": {},
     "output_type": "display_data"
    }
   ],
   "source": [
    "num_attributes = df4.select_dtypes( include=['int64', 'float64'] )\n",
    "num_attributes.hist( bins=25 );"
   ]
  },
  {
   "cell_type": "markdown",
   "id": "27cc18ff-b8e9-4b4b-a1c4-afd0bd69268d",
   "metadata": {
    "tags": []
   },
   "source": [
    "### 4.3. Variavel categorica"
   ]
  },
  {
   "cell_type": "code",
   "execution_count": 132,
   "id": "636d06a2-d9d1-4bf7-8873-e35896e55e4c",
   "metadata": {},
   "outputs": [],
   "source": [
    "cat_attributes = df4.select_dtypes( exclude=['int64', 'float64', 'datetime64[ns]'] )"
   ]
  },
  {
   "cell_type": "markdown",
   "id": "3c94aa1c-617c-407c-9c58-43a76e86c5ca",
   "metadata": {},
   "source": [
    "#### 4.3.1. Categorical atributes"
   ]
  },
  {
   "cell_type": "code",
   "execution_count": 138,
   "id": "7436a469-14ef-469a-850b-9ebcda679f7d",
   "metadata": {},
   "outputs": [
    {
     "data": {
      "text/plain": [
       "papel    5\n",
       "dtype: int64"
      ]
     },
     "execution_count": 138,
     "metadata": {},
     "output_type": "execute_result"
    }
   ],
   "source": [
    "# Neste caso o dataset simples e não precisaria de uma analise de quantos tipos de variaveis categoricas temos, está aqui so para \n",
    "# representação de conhecimento de como explorar melhor um volume maior de dados\n",
    "# Neste caso temos apenas 5 tipos de categorias, que são: Dolar, BOVA11, SMAL11, Bitcoin e Ethereum\n",
    "cat_attributes.apply( lambda x: x.unique().shape[0] )"
   ]
  },
  {
   "cell_type": "code",
   "execution_count": 144,
   "id": "13bdfab2-dc94-43a2-9675-24070836e829",
   "metadata": {},
   "outputs": [
    {
     "name": "stderr",
     "output_type": "stream",
     "text": [
      "/home/studio-lab-user/.conda/envs/default/lib/python3.9/site-packages/seaborn/_decorators.py:36: FutureWarning: Pass the following variable as a keyword arg: x. From version 0.12, the only valid positional argument will be `data`, and passing other arguments without an explicit keyword will result in an error or misinterpretation.\n",
      "  warnings.warn(\n"
     ]
    },
    {
     "data": {
      "image/png": "[encoded data removed]",
      "text/plain": [
       "<Figure size 864x720 with 1 Axes>"
      ]
     },
     "metadata": {},
     "output_type": "display_data"
    }
   ],
   "source": [
    "# Quantidade de dados que temos disponivel de cada papel\n",
    "sns.countplot(df4['papel']);"
   ]
  },
  {
   "cell_type": "code",
   "execution_count": null,
   "id": "bb4fe5ac-4747-41e7-b4d5-a89b4f7ad648",
   "metadata": {},
   "outputs": [],
   "source": []
  },
  {
   "cell_type": "code",
   "execution_count": null,
   "id": "3eec8b64-daf2-43cc-8e27-156383fb672f",
   "metadata": {},
   "outputs": [],
   "source": []
  },
  {
   "cell_type": "code",
   "execution_count": null,
   "id": "7b210068-2def-4acd-979e-4c625df17930",
   "metadata": {},
   "outputs": [],
   "source": []
  },
  {
   "cell_type": "code",
   "execution_count": null,
   "id": "ef1c1b01-fb4b-4536-a68b-4c71de5da26a",
   "metadata": {},
   "outputs": [],
   "source": []
  },
  {
   "cell_type": "code",
   "execution_count": null,
   "id": "8d3b67ed-6073-46ac-af53-7e90260ede78",
   "metadata": {},
   "outputs": [],
   "source": []
  },
  {
   "cell_type": "code",
   "execution_count": null,
   "id": "f0495090-0506-43fe-ad1a-3b44fb22a351",
   "metadata": {},
   "outputs": [],
   "source": [
    "### 4.4.   "
   ]
  }
 ],
 "metadata": {
  "kernelspec": {
   "display_name": "default:Python",
   "language": "python",
   "name": "conda-env-default-py"
  },
  "language_info": {
   "codemirror_mode": {
    "name": "ipython",
    "version": 3
   },
   "file_extension": ".py",
   "mimetype": "text/x-python",
   "name": "python",
   "nbconvert_exporter": "python",
   "pygments_lexer": "ipython3",
   "version": "3.9.7"
  }
 },
 "nbformat": 4,
 "nbformat_minor": 5
}
